{
 "cells": [
  {
   "cell_type": "code",
   "execution_count": 1,
   "id": "bfe53af4-a1eb-4ca8-983d-52d92e43a7f9",
   "metadata": {},
   "outputs": [],
   "source": [
    "#import all the applicable libraries\n",
    "import numpy as np\n",
    "import matplotlib.pyplot as plt\n",
    "import seaborn as sns\n",
    "import pandas as pd"
   ]
  },
  {
   "cell_type": "code",
   "execution_count": 2,
   "id": "c21c2528-518a-4965-9b35-3412457b9797",
   "metadata": {},
   "outputs": [],
   "source": [
    "df = pd.read_csv('SampleSuperstore.csv')\n",
    "#load the dataset"
   ]
  },
  {
   "cell_type": "code",
   "execution_count": 3,
   "id": "f53f727e-3a08-424f-818d-668943de67b4",
   "metadata": {},
   "outputs": [
    {
     "data": {
      "text/html": [
       "<div>\n",
       "<style scoped>\n",
       "    .dataframe tbody tr th:only-of-type {\n",
       "        vertical-align: middle;\n",
       "    }\n",
       "\n",
       "    .dataframe tbody tr th {\n",
       "        vertical-align: top;\n",
       "    }\n",
       "\n",
       "    .dataframe thead th {\n",
       "        text-align: right;\n",
       "    }\n",
       "</style>\n",
       "<table border=\"1\" class=\"dataframe\">\n",
       "  <thead>\n",
       "    <tr style=\"text-align: right;\">\n",
       "      <th></th>\n",
       "      <th>Ship Mode</th>\n",
       "      <th>Segment</th>\n",
       "      <th>Country</th>\n",
       "      <th>City</th>\n",
       "      <th>State</th>\n",
       "      <th>Postal Code</th>\n",
       "      <th>Region</th>\n",
       "      <th>Category</th>\n",
       "      <th>Sub-Category</th>\n",
       "      <th>Sales</th>\n",
       "      <th>Quantity</th>\n",
       "      <th>Discount</th>\n",
       "      <th>Profit</th>\n",
       "    </tr>\n",
       "  </thead>\n",
       "  <tbody>\n",
       "    <tr>\n",
       "      <th>0</th>\n",
       "      <td>Second Class</td>\n",
       "      <td>Consumer</td>\n",
       "      <td>United States</td>\n",
       "      <td>Henderson</td>\n",
       "      <td>Kentucky</td>\n",
       "      <td>42420</td>\n",
       "      <td>South</td>\n",
       "      <td>Furniture</td>\n",
       "      <td>Bookcases</td>\n",
       "      <td>261.9600</td>\n",
       "      <td>2</td>\n",
       "      <td>0.00</td>\n",
       "      <td>41.9136</td>\n",
       "    </tr>\n",
       "    <tr>\n",
       "      <th>1</th>\n",
       "      <td>Second Class</td>\n",
       "      <td>Consumer</td>\n",
       "      <td>United States</td>\n",
       "      <td>Henderson</td>\n",
       "      <td>Kentucky</td>\n",
       "      <td>42420</td>\n",
       "      <td>South</td>\n",
       "      <td>Furniture</td>\n",
       "      <td>Chairs</td>\n",
       "      <td>731.9400</td>\n",
       "      <td>3</td>\n",
       "      <td>0.00</td>\n",
       "      <td>219.5820</td>\n",
       "    </tr>\n",
       "    <tr>\n",
       "      <th>2</th>\n",
       "      <td>Second Class</td>\n",
       "      <td>Corporate</td>\n",
       "      <td>United States</td>\n",
       "      <td>Los Angeles</td>\n",
       "      <td>California</td>\n",
       "      <td>90036</td>\n",
       "      <td>West</td>\n",
       "      <td>Office Supplies</td>\n",
       "      <td>Labels</td>\n",
       "      <td>14.6200</td>\n",
       "      <td>2</td>\n",
       "      <td>0.00</td>\n",
       "      <td>6.8714</td>\n",
       "    </tr>\n",
       "    <tr>\n",
       "      <th>3</th>\n",
       "      <td>Standard Class</td>\n",
       "      <td>Consumer</td>\n",
       "      <td>United States</td>\n",
       "      <td>Fort Lauderdale</td>\n",
       "      <td>Florida</td>\n",
       "      <td>33311</td>\n",
       "      <td>South</td>\n",
       "      <td>Furniture</td>\n",
       "      <td>Tables</td>\n",
       "      <td>957.5775</td>\n",
       "      <td>5</td>\n",
       "      <td>0.45</td>\n",
       "      <td>-383.0310</td>\n",
       "    </tr>\n",
       "    <tr>\n",
       "      <th>4</th>\n",
       "      <td>Standard Class</td>\n",
       "      <td>Consumer</td>\n",
       "      <td>United States</td>\n",
       "      <td>Fort Lauderdale</td>\n",
       "      <td>Florida</td>\n",
       "      <td>33311</td>\n",
       "      <td>South</td>\n",
       "      <td>Office Supplies</td>\n",
       "      <td>Storage</td>\n",
       "      <td>22.3680</td>\n",
       "      <td>2</td>\n",
       "      <td>0.20</td>\n",
       "      <td>2.5164</td>\n",
       "    </tr>\n",
       "  </tbody>\n",
       "</table>\n",
       "</div>"
      ],
      "text/plain": [
       "        Ship Mode    Segment        Country             City       State  \\\n",
       "0    Second Class   Consumer  United States        Henderson    Kentucky   \n",
       "1    Second Class   Consumer  United States        Henderson    Kentucky   \n",
       "2    Second Class  Corporate  United States      Los Angeles  California   \n",
       "3  Standard Class   Consumer  United States  Fort Lauderdale     Florida   \n",
       "4  Standard Class   Consumer  United States  Fort Lauderdale     Florida   \n",
       "\n",
       "   Postal Code Region         Category Sub-Category     Sales  Quantity  \\\n",
       "0        42420  South        Furniture    Bookcases  261.9600         2   \n",
       "1        42420  South        Furniture       Chairs  731.9400         3   \n",
       "2        90036   West  Office Supplies       Labels   14.6200         2   \n",
       "3        33311  South        Furniture       Tables  957.5775         5   \n",
       "4        33311  South  Office Supplies      Storage   22.3680         2   \n",
       "\n",
       "   Discount    Profit  \n",
       "0      0.00   41.9136  \n",
       "1      0.00  219.5820  \n",
       "2      0.00    6.8714  \n",
       "3      0.45 -383.0310  \n",
       "4      0.20    2.5164  "
      ]
     },
     "execution_count": 3,
     "metadata": {},
     "output_type": "execute_result"
    }
   ],
   "source": [
    "df.head()\n",
    "#read and observe the file"
   ]
  },
  {
   "cell_type": "code",
   "execution_count": 4,
   "id": "89d3d5a2-4a1c-4d13-9d7b-29bb3a8ef44a",
   "metadata": {},
   "outputs": [
    {
     "data": {
      "text/plain": [
       "Index(['Ship Mode', 'Segment', 'Country', 'City', 'State', 'Postal Code',\n",
       "       'Region', 'Category', 'Sub-Category', 'Sales', 'Quantity', 'Discount',\n",
       "       'Profit'],\n",
       "      dtype='object')"
      ]
     },
     "execution_count": 4,
     "metadata": {},
     "output_type": "execute_result"
    }
   ],
   "source": [
    "df.columns"
   ]
  },
  {
   "cell_type": "code",
   "execution_count": 6,
   "id": "a1a37a81-41dd-4fe4-8f7c-ee7c99c2455b",
   "metadata": {},
   "outputs": [
    {
     "data": {
      "text/html": [
       "<div>\n",
       "<style scoped>\n",
       "    .dataframe tbody tr th:only-of-type {\n",
       "        vertical-align: middle;\n",
       "    }\n",
       "\n",
       "    .dataframe tbody tr th {\n",
       "        vertical-align: top;\n",
       "    }\n",
       "\n",
       "    .dataframe thead th {\n",
       "        text-align: right;\n",
       "    }\n",
       "</style>\n",
       "<table border=\"1\" class=\"dataframe\">\n",
       "  <thead>\n",
       "    <tr style=\"text-align: right;\">\n",
       "      <th></th>\n",
       "      <th>Segment</th>\n",
       "      <th>Country</th>\n",
       "      <th>City</th>\n",
       "      <th>State</th>\n",
       "      <th>Postal Code</th>\n",
       "      <th>Region</th>\n",
       "      <th>Category</th>\n",
       "      <th>Sub-Category</th>\n",
       "      <th>Sales</th>\n",
       "      <th>Quantity</th>\n",
       "      <th>Discount</th>\n",
       "      <th>Profit</th>\n",
       "    </tr>\n",
       "  </thead>\n",
       "  <tbody>\n",
       "    <tr>\n",
       "      <th>0</th>\n",
       "      <td>Consumer</td>\n",
       "      <td>United States</td>\n",
       "      <td>Henderson</td>\n",
       "      <td>Kentucky</td>\n",
       "      <td>42420</td>\n",
       "      <td>South</td>\n",
       "      <td>Furniture</td>\n",
       "      <td>Bookcases</td>\n",
       "      <td>261.9600</td>\n",
       "      <td>2</td>\n",
       "      <td>0.00</td>\n",
       "      <td>41.9136</td>\n",
       "    </tr>\n",
       "    <tr>\n",
       "      <th>1</th>\n",
       "      <td>Consumer</td>\n",
       "      <td>United States</td>\n",
       "      <td>Henderson</td>\n",
       "      <td>Kentucky</td>\n",
       "      <td>42420</td>\n",
       "      <td>South</td>\n",
       "      <td>Furniture</td>\n",
       "      <td>Chairs</td>\n",
       "      <td>731.9400</td>\n",
       "      <td>3</td>\n",
       "      <td>0.00</td>\n",
       "      <td>219.5820</td>\n",
       "    </tr>\n",
       "    <tr>\n",
       "      <th>2</th>\n",
       "      <td>Corporate</td>\n",
       "      <td>United States</td>\n",
       "      <td>Los Angeles</td>\n",
       "      <td>California</td>\n",
       "      <td>90036</td>\n",
       "      <td>West</td>\n",
       "      <td>Office Supplies</td>\n",
       "      <td>Labels</td>\n",
       "      <td>14.6200</td>\n",
       "      <td>2</td>\n",
       "      <td>0.00</td>\n",
       "      <td>6.8714</td>\n",
       "    </tr>\n",
       "    <tr>\n",
       "      <th>3</th>\n",
       "      <td>Consumer</td>\n",
       "      <td>United States</td>\n",
       "      <td>Fort Lauderdale</td>\n",
       "      <td>Florida</td>\n",
       "      <td>33311</td>\n",
       "      <td>South</td>\n",
       "      <td>Furniture</td>\n",
       "      <td>Tables</td>\n",
       "      <td>957.5775</td>\n",
       "      <td>5</td>\n",
       "      <td>0.45</td>\n",
       "      <td>-383.0310</td>\n",
       "    </tr>\n",
       "    <tr>\n",
       "      <th>4</th>\n",
       "      <td>Consumer</td>\n",
       "      <td>United States</td>\n",
       "      <td>Fort Lauderdale</td>\n",
       "      <td>Florida</td>\n",
       "      <td>33311</td>\n",
       "      <td>South</td>\n",
       "      <td>Office Supplies</td>\n",
       "      <td>Storage</td>\n",
       "      <td>22.3680</td>\n",
       "      <td>2</td>\n",
       "      <td>0.20</td>\n",
       "      <td>2.5164</td>\n",
       "    </tr>\n",
       "    <tr>\n",
       "      <th>...</th>\n",
       "      <td>...</td>\n",
       "      <td>...</td>\n",
       "      <td>...</td>\n",
       "      <td>...</td>\n",
       "      <td>...</td>\n",
       "      <td>...</td>\n",
       "      <td>...</td>\n",
       "      <td>...</td>\n",
       "      <td>...</td>\n",
       "      <td>...</td>\n",
       "      <td>...</td>\n",
       "      <td>...</td>\n",
       "    </tr>\n",
       "    <tr>\n",
       "      <th>9989</th>\n",
       "      <td>Consumer</td>\n",
       "      <td>United States</td>\n",
       "      <td>Miami</td>\n",
       "      <td>Florida</td>\n",
       "      <td>33180</td>\n",
       "      <td>South</td>\n",
       "      <td>Furniture</td>\n",
       "      <td>Furnishings</td>\n",
       "      <td>25.2480</td>\n",
       "      <td>3</td>\n",
       "      <td>0.20</td>\n",
       "      <td>4.1028</td>\n",
       "    </tr>\n",
       "    <tr>\n",
       "      <th>9990</th>\n",
       "      <td>Consumer</td>\n",
       "      <td>United States</td>\n",
       "      <td>Costa Mesa</td>\n",
       "      <td>California</td>\n",
       "      <td>92627</td>\n",
       "      <td>West</td>\n",
       "      <td>Furniture</td>\n",
       "      <td>Furnishings</td>\n",
       "      <td>91.9600</td>\n",
       "      <td>2</td>\n",
       "      <td>0.00</td>\n",
       "      <td>15.6332</td>\n",
       "    </tr>\n",
       "    <tr>\n",
       "      <th>9991</th>\n",
       "      <td>Consumer</td>\n",
       "      <td>United States</td>\n",
       "      <td>Costa Mesa</td>\n",
       "      <td>California</td>\n",
       "      <td>92627</td>\n",
       "      <td>West</td>\n",
       "      <td>Technology</td>\n",
       "      <td>Phones</td>\n",
       "      <td>258.5760</td>\n",
       "      <td>2</td>\n",
       "      <td>0.20</td>\n",
       "      <td>19.3932</td>\n",
       "    </tr>\n",
       "    <tr>\n",
       "      <th>9992</th>\n",
       "      <td>Consumer</td>\n",
       "      <td>United States</td>\n",
       "      <td>Costa Mesa</td>\n",
       "      <td>California</td>\n",
       "      <td>92627</td>\n",
       "      <td>West</td>\n",
       "      <td>Office Supplies</td>\n",
       "      <td>Paper</td>\n",
       "      <td>29.6000</td>\n",
       "      <td>4</td>\n",
       "      <td>0.00</td>\n",
       "      <td>13.3200</td>\n",
       "    </tr>\n",
       "    <tr>\n",
       "      <th>9993</th>\n",
       "      <td>Consumer</td>\n",
       "      <td>United States</td>\n",
       "      <td>Westminster</td>\n",
       "      <td>California</td>\n",
       "      <td>92683</td>\n",
       "      <td>West</td>\n",
       "      <td>Office Supplies</td>\n",
       "      <td>Appliances</td>\n",
       "      <td>243.1600</td>\n",
       "      <td>2</td>\n",
       "      <td>0.00</td>\n",
       "      <td>72.9480</td>\n",
       "    </tr>\n",
       "  </tbody>\n",
       "</table>\n",
       "<p>9994 rows × 12 columns</p>\n",
       "</div>"
      ],
      "text/plain": [
       "        Segment        Country             City       State  Postal Code  \\\n",
       "0      Consumer  United States        Henderson    Kentucky        42420   \n",
       "1      Consumer  United States        Henderson    Kentucky        42420   \n",
       "2     Corporate  United States      Los Angeles  California        90036   \n",
       "3      Consumer  United States  Fort Lauderdale     Florida        33311   \n",
       "4      Consumer  United States  Fort Lauderdale     Florida        33311   \n",
       "...         ...            ...              ...         ...          ...   \n",
       "9989   Consumer  United States            Miami     Florida        33180   \n",
       "9990   Consumer  United States       Costa Mesa  California        92627   \n",
       "9991   Consumer  United States       Costa Mesa  California        92627   \n",
       "9992   Consumer  United States       Costa Mesa  California        92627   \n",
       "9993   Consumer  United States      Westminster  California        92683   \n",
       "\n",
       "     Region         Category Sub-Category     Sales  Quantity  Discount  \\\n",
       "0     South        Furniture    Bookcases  261.9600         2      0.00   \n",
       "1     South        Furniture       Chairs  731.9400         3      0.00   \n",
       "2      West  Office Supplies       Labels   14.6200         2      0.00   \n",
       "3     South        Furniture       Tables  957.5775         5      0.45   \n",
       "4     South  Office Supplies      Storage   22.3680         2      0.20   \n",
       "...     ...              ...          ...       ...       ...       ...   \n",
       "9989  South        Furniture  Furnishings   25.2480         3      0.20   \n",
       "9990   West        Furniture  Furnishings   91.9600         2      0.00   \n",
       "9991   West       Technology       Phones  258.5760         2      0.20   \n",
       "9992   West  Office Supplies        Paper   29.6000         4      0.00   \n",
       "9993   West  Office Supplies   Appliances  243.1600         2      0.00   \n",
       "\n",
       "        Profit  \n",
       "0      41.9136  \n",
       "1     219.5820  \n",
       "2       6.8714  \n",
       "3    -383.0310  \n",
       "4       2.5164  \n",
       "...        ...  \n",
       "9989    4.1028  \n",
       "9990   15.6332  \n",
       "9991   19.3932  \n",
       "9992   13.3200  \n",
       "9993   72.9480  \n",
       "\n",
       "[9994 rows x 12 columns]"
      ]
     },
     "execution_count": 6,
     "metadata": {},
     "output_type": "execute_result"
    }
   ],
   "source": [
    "#ship mode is an unnecessary column, hence we drop it\n",
    "df.drop('Ship Mode', axis = 1)"
   ]
  },
  {
   "cell_type": "code",
   "execution_count": 7,
   "id": "1f8c6cbe-08ef-4a96-bda5-e700f48024e6",
   "metadata": {},
   "outputs": [
    {
     "data": {
      "text/plain": [
       "Ship Mode       0\n",
       "Segment         0\n",
       "Country         0\n",
       "City            0\n",
       "State           0\n",
       "Postal Code     0\n",
       "Region          0\n",
       "Category        0\n",
       "Sub-Category    0\n",
       "Sales           0\n",
       "Quantity        0\n",
       "Discount        0\n",
       "Profit          0\n",
       "dtype: int64"
      ]
     },
     "execution_count": 7,
     "metadata": {},
     "output_type": "execute_result"
    }
   ],
   "source": [
    "df.isnull().sum()\n",
    "#thus, no null values found"
   ]
  },
  {
   "cell_type": "code",
   "execution_count": 8,
   "id": "dbc671b2-4041-4685-afb3-695018113953",
   "metadata": {},
   "outputs": [
    {
     "name": "stdout",
     "output_type": "stream",
     "text": [
      "<class 'pandas.core.frame.DataFrame'>\n",
      "RangeIndex: 9994 entries, 0 to 9993\n",
      "Data columns (total 13 columns):\n",
      " #   Column        Non-Null Count  Dtype  \n",
      "---  ------        --------------  -----  \n",
      " 0   Ship Mode     9994 non-null   object \n",
      " 1   Segment       9994 non-null   object \n",
      " 2   Country       9994 non-null   object \n",
      " 3   City          9994 non-null   object \n",
      " 4   State         9994 non-null   object \n",
      " 5   Postal Code   9994 non-null   int64  \n",
      " 6   Region        9994 non-null   object \n",
      " 7   Category      9994 non-null   object \n",
      " 8   Sub-Category  9994 non-null   object \n",
      " 9   Sales         9994 non-null   float64\n",
      " 10  Quantity      9994 non-null   int64  \n",
      " 11  Discount      9994 non-null   float64\n",
      " 12  Profit        9994 non-null   float64\n",
      "dtypes: float64(3), int64(2), object(8)\n",
      "memory usage: 1015.1+ KB\n"
     ]
    }
   ],
   "source": [
    "df.info()"
   ]
  },
  {
   "cell_type": "code",
   "execution_count": 10,
   "id": "f850b267-b3a2-4918-856f-6f0026844b60",
   "metadata": {},
   "outputs": [],
   "source": [
    "new_df = df.drop('Ship Mode',axis = 1)"
   ]
  },
  {
   "cell_type": "code",
   "execution_count": 11,
   "id": "6efc3486-8007-453a-9928-f8de79a71f3b",
   "metadata": {},
   "outputs": [
    {
     "data": {
      "text/html": [
       "<div>\n",
       "<style scoped>\n",
       "    .dataframe tbody tr th:only-of-type {\n",
       "        vertical-align: middle;\n",
       "    }\n",
       "\n",
       "    .dataframe tbody tr th {\n",
       "        vertical-align: top;\n",
       "    }\n",
       "\n",
       "    .dataframe thead th {\n",
       "        text-align: right;\n",
       "    }\n",
       "</style>\n",
       "<table border=\"1\" class=\"dataframe\">\n",
       "  <thead>\n",
       "    <tr style=\"text-align: right;\">\n",
       "      <th></th>\n",
       "      <th>Segment</th>\n",
       "      <th>Country</th>\n",
       "      <th>City</th>\n",
       "      <th>State</th>\n",
       "      <th>Postal Code</th>\n",
       "      <th>Region</th>\n",
       "      <th>Category</th>\n",
       "      <th>Sub-Category</th>\n",
       "      <th>Sales</th>\n",
       "      <th>Quantity</th>\n",
       "      <th>Discount</th>\n",
       "      <th>Profit</th>\n",
       "    </tr>\n",
       "  </thead>\n",
       "  <tbody>\n",
       "    <tr>\n",
       "      <th>0</th>\n",
       "      <td>Consumer</td>\n",
       "      <td>United States</td>\n",
       "      <td>Henderson</td>\n",
       "      <td>Kentucky</td>\n",
       "      <td>42420</td>\n",
       "      <td>South</td>\n",
       "      <td>Furniture</td>\n",
       "      <td>Bookcases</td>\n",
       "      <td>261.9600</td>\n",
       "      <td>2</td>\n",
       "      <td>0.00</td>\n",
       "      <td>41.9136</td>\n",
       "    </tr>\n",
       "    <tr>\n",
       "      <th>1</th>\n",
       "      <td>Consumer</td>\n",
       "      <td>United States</td>\n",
       "      <td>Henderson</td>\n",
       "      <td>Kentucky</td>\n",
       "      <td>42420</td>\n",
       "      <td>South</td>\n",
       "      <td>Furniture</td>\n",
       "      <td>Chairs</td>\n",
       "      <td>731.9400</td>\n",
       "      <td>3</td>\n",
       "      <td>0.00</td>\n",
       "      <td>219.5820</td>\n",
       "    </tr>\n",
       "    <tr>\n",
       "      <th>2</th>\n",
       "      <td>Corporate</td>\n",
       "      <td>United States</td>\n",
       "      <td>Los Angeles</td>\n",
       "      <td>California</td>\n",
       "      <td>90036</td>\n",
       "      <td>West</td>\n",
       "      <td>Office Supplies</td>\n",
       "      <td>Labels</td>\n",
       "      <td>14.6200</td>\n",
       "      <td>2</td>\n",
       "      <td>0.00</td>\n",
       "      <td>6.8714</td>\n",
       "    </tr>\n",
       "    <tr>\n",
       "      <th>3</th>\n",
       "      <td>Consumer</td>\n",
       "      <td>United States</td>\n",
       "      <td>Fort Lauderdale</td>\n",
       "      <td>Florida</td>\n",
       "      <td>33311</td>\n",
       "      <td>South</td>\n",
       "      <td>Furniture</td>\n",
       "      <td>Tables</td>\n",
       "      <td>957.5775</td>\n",
       "      <td>5</td>\n",
       "      <td>0.45</td>\n",
       "      <td>-383.0310</td>\n",
       "    </tr>\n",
       "    <tr>\n",
       "      <th>4</th>\n",
       "      <td>Consumer</td>\n",
       "      <td>United States</td>\n",
       "      <td>Fort Lauderdale</td>\n",
       "      <td>Florida</td>\n",
       "      <td>33311</td>\n",
       "      <td>South</td>\n",
       "      <td>Office Supplies</td>\n",
       "      <td>Storage</td>\n",
       "      <td>22.3680</td>\n",
       "      <td>2</td>\n",
       "      <td>0.20</td>\n",
       "      <td>2.5164</td>\n",
       "    </tr>\n",
       "    <tr>\n",
       "      <th>...</th>\n",
       "      <td>...</td>\n",
       "      <td>...</td>\n",
       "      <td>...</td>\n",
       "      <td>...</td>\n",
       "      <td>...</td>\n",
       "      <td>...</td>\n",
       "      <td>...</td>\n",
       "      <td>...</td>\n",
       "      <td>...</td>\n",
       "      <td>...</td>\n",
       "      <td>...</td>\n",
       "      <td>...</td>\n",
       "    </tr>\n",
       "    <tr>\n",
       "      <th>9989</th>\n",
       "      <td>Consumer</td>\n",
       "      <td>United States</td>\n",
       "      <td>Miami</td>\n",
       "      <td>Florida</td>\n",
       "      <td>33180</td>\n",
       "      <td>South</td>\n",
       "      <td>Furniture</td>\n",
       "      <td>Furnishings</td>\n",
       "      <td>25.2480</td>\n",
       "      <td>3</td>\n",
       "      <td>0.20</td>\n",
       "      <td>4.1028</td>\n",
       "    </tr>\n",
       "    <tr>\n",
       "      <th>9990</th>\n",
       "      <td>Consumer</td>\n",
       "      <td>United States</td>\n",
       "      <td>Costa Mesa</td>\n",
       "      <td>California</td>\n",
       "      <td>92627</td>\n",
       "      <td>West</td>\n",
       "      <td>Furniture</td>\n",
       "      <td>Furnishings</td>\n",
       "      <td>91.9600</td>\n",
       "      <td>2</td>\n",
       "      <td>0.00</td>\n",
       "      <td>15.6332</td>\n",
       "    </tr>\n",
       "    <tr>\n",
       "      <th>9991</th>\n",
       "      <td>Consumer</td>\n",
       "      <td>United States</td>\n",
       "      <td>Costa Mesa</td>\n",
       "      <td>California</td>\n",
       "      <td>92627</td>\n",
       "      <td>West</td>\n",
       "      <td>Technology</td>\n",
       "      <td>Phones</td>\n",
       "      <td>258.5760</td>\n",
       "      <td>2</td>\n",
       "      <td>0.20</td>\n",
       "      <td>19.3932</td>\n",
       "    </tr>\n",
       "    <tr>\n",
       "      <th>9992</th>\n",
       "      <td>Consumer</td>\n",
       "      <td>United States</td>\n",
       "      <td>Costa Mesa</td>\n",
       "      <td>California</td>\n",
       "      <td>92627</td>\n",
       "      <td>West</td>\n",
       "      <td>Office Supplies</td>\n",
       "      <td>Paper</td>\n",
       "      <td>29.6000</td>\n",
       "      <td>4</td>\n",
       "      <td>0.00</td>\n",
       "      <td>13.3200</td>\n",
       "    </tr>\n",
       "    <tr>\n",
       "      <th>9993</th>\n",
       "      <td>Consumer</td>\n",
       "      <td>United States</td>\n",
       "      <td>Westminster</td>\n",
       "      <td>California</td>\n",
       "      <td>92683</td>\n",
       "      <td>West</td>\n",
       "      <td>Office Supplies</td>\n",
       "      <td>Appliances</td>\n",
       "      <td>243.1600</td>\n",
       "      <td>2</td>\n",
       "      <td>0.00</td>\n",
       "      <td>72.9480</td>\n",
       "    </tr>\n",
       "  </tbody>\n",
       "</table>\n",
       "<p>9994 rows × 12 columns</p>\n",
       "</div>"
      ],
      "text/plain": [
       "        Segment        Country             City       State  Postal Code  \\\n",
       "0      Consumer  United States        Henderson    Kentucky        42420   \n",
       "1      Consumer  United States        Henderson    Kentucky        42420   \n",
       "2     Corporate  United States      Los Angeles  California        90036   \n",
       "3      Consumer  United States  Fort Lauderdale     Florida        33311   \n",
       "4      Consumer  United States  Fort Lauderdale     Florida        33311   \n",
       "...         ...            ...              ...         ...          ...   \n",
       "9989   Consumer  United States            Miami     Florida        33180   \n",
       "9990   Consumer  United States       Costa Mesa  California        92627   \n",
       "9991   Consumer  United States       Costa Mesa  California        92627   \n",
       "9992   Consumer  United States       Costa Mesa  California        92627   \n",
       "9993   Consumer  United States      Westminster  California        92683   \n",
       "\n",
       "     Region         Category Sub-Category     Sales  Quantity  Discount  \\\n",
       "0     South        Furniture    Bookcases  261.9600         2      0.00   \n",
       "1     South        Furniture       Chairs  731.9400         3      0.00   \n",
       "2      West  Office Supplies       Labels   14.6200         2      0.00   \n",
       "3     South        Furniture       Tables  957.5775         5      0.45   \n",
       "4     South  Office Supplies      Storage   22.3680         2      0.20   \n",
       "...     ...              ...          ...       ...       ...       ...   \n",
       "9989  South        Furniture  Furnishings   25.2480         3      0.20   \n",
       "9990   West        Furniture  Furnishings   91.9600         2      0.00   \n",
       "9991   West       Technology       Phones  258.5760         2      0.20   \n",
       "9992   West  Office Supplies        Paper   29.6000         4      0.00   \n",
       "9993   West  Office Supplies   Appliances  243.1600         2      0.00   \n",
       "\n",
       "        Profit  \n",
       "0      41.9136  \n",
       "1     219.5820  \n",
       "2       6.8714  \n",
       "3    -383.0310  \n",
       "4       2.5164  \n",
       "...        ...  \n",
       "9989    4.1028  \n",
       "9990   15.6332  \n",
       "9991   19.3932  \n",
       "9992   13.3200  \n",
       "9993   72.9480  \n",
       "\n",
       "[9994 rows x 12 columns]"
      ]
     },
     "execution_count": 11,
     "metadata": {},
     "output_type": "execute_result"
    }
   ],
   "source": [
    "new_df"
   ]
  },
  {
   "cell_type": "code",
   "execution_count": 12,
   "id": "0befae75-db53-462f-9f9a-1890ec150f80",
   "metadata": {},
   "outputs": [
    {
     "data": {
      "text/plain": [
       "Index(['Ship Mode', 'Segment', 'Country', 'City', 'State', 'Postal Code',\n",
       "       'Region', 'Category', 'Sub-Category', 'Sales', 'Quantity', 'Discount',\n",
       "       'Profit'],\n",
       "      dtype='object')"
      ]
     },
     "execution_count": 12,
     "metadata": {},
     "output_type": "execute_result"
    }
   ],
   "source": [
    "df.columns"
   ]
  },
  {
   "cell_type": "code",
   "execution_count": 13,
   "id": "321ab1fe-da3f-4220-af7d-525c00247942",
   "metadata": {},
   "outputs": [
    {
     "name": "stdout",
     "output_type": "stream",
     "text": [
      "['Second Class' 'Standard Class' 'First Class' 'Same Day']\n"
     ]
    }
   ],
   "source": [
    "print(df['Ship Mode'].unique())\n",
    "#checking the unique values of each columns"
   ]
  },
  {
   "cell_type": "code",
   "execution_count": 15,
   "id": "2716b6b5-9942-4595-9295-bbfda392e966",
   "metadata": {},
   "outputs": [
    {
     "name": "stdout",
     "output_type": "stream",
     "text": [
      "['Consumer' 'Corporate' 'Home Office']\n"
     ]
    }
   ],
   "source": [
    "print(df['Segment'].unique())"
   ]
  },
  {
   "cell_type": "code",
   "execution_count": 19,
   "id": "ba9fa5f3-7f2c-40b8-93c1-70e96fcacd62",
   "metadata": {},
   "outputs": [
    {
     "name": "stdout",
     "output_type": "stream",
     "text": [
      "['Henderson' 'Los Angeles' 'Fort Lauderdale' 'Concord' 'Seattle'\n",
      " 'Fort Worth' 'Madison' 'West Jordan' 'San Francisco' 'Fremont'\n",
      " 'Philadelphia' 'Orem' 'Houston' 'Richardson' 'Naperville' 'Melbourne'\n",
      " 'Eagan' 'Westland' 'Dover' 'New Albany' 'New York City' 'Troy' 'Chicago'\n",
      " 'Gilbert' 'Springfield' 'Jackson' 'Memphis' 'Decatur' 'Durham' 'Columbia'\n",
      " 'Rochester' 'Minneapolis' 'Portland' 'Saint Paul' 'Aurora' 'Charlotte'\n",
      " 'Orland Park' 'Urbandale' 'Columbus' 'Bristol' 'Wilmington' 'Bloomington'\n",
      " 'Phoenix' 'Roseville' 'Independence' 'Pasadena' 'Newark' 'Franklin'\n",
      " 'Scottsdale' 'San Jose' 'Edmond' 'Carlsbad' 'San Antonio' 'Monroe'\n",
      " 'Fairfield' 'Grand Prairie' 'Redlands' 'Hamilton' 'Westfield' 'Akron'\n",
      " 'Denver' 'Dallas' 'Whittier' 'Saginaw' 'Medina' 'Dublin' 'Detroit'\n",
      " 'Tampa' 'Santa Clara' 'Lakeville' 'San Diego' 'Brentwood' 'Chapel Hill'\n",
      " 'Morristown' 'Cincinnati' 'Inglewood' 'Tamarac' 'Colorado Springs'\n",
      " 'Belleville' 'Taylor' 'Lakewood' 'Arlington' 'Arvada' 'Hackensack'\n",
      " 'Saint Petersburg' 'Long Beach' 'Hesperia' 'Murfreesboro' 'Layton'\n",
      " 'Austin' 'Lowell' 'Manchester' 'Harlingen' 'Tucson' 'Quincy'\n",
      " 'Pembroke Pines' 'Des Moines' 'Peoria' 'Las Vegas' 'Warwick' 'Miami'\n",
      " 'Huntington Beach' 'Richmond' 'Louisville' 'Lawrence' 'Canton'\n",
      " 'New Rochelle' 'Gastonia' 'Jacksonville' 'Auburn' 'Norman' 'Park Ridge'\n",
      " 'Amarillo' 'Lindenhurst' 'Huntsville' 'Fayetteville' 'Costa Mesa'\n",
      " 'Parker' 'Atlanta' 'Gladstone' 'Great Falls' 'Lakeland' 'Montgomery'\n",
      " 'Mesa' 'Green Bay' 'Anaheim' 'Marysville' 'Salem' 'Laredo' 'Grove City'\n",
      " 'Dearborn' 'Warner Robins' 'Vallejo' 'Mission Viejo' 'Rochester Hills'\n",
      " 'Plainfield' 'Sierra Vista' 'Vancouver' 'Cleveland' 'Tyler' 'Burlington'\n",
      " 'Waynesboro' 'Chester' 'Cary' 'Palm Coast' 'Mount Vernon' 'Hialeah'\n",
      " 'Oceanside' 'Evanston' 'Trenton' 'Cottage Grove' 'Bossier City'\n",
      " 'Lancaster' 'Asheville' 'Lake Elsinore' 'Omaha' 'Edmonds' 'Santa Ana'\n",
      " 'Milwaukee' 'Florence' 'Lorain' 'Linden' 'Salinas' 'New Brunswick'\n",
      " 'Garland' 'Norwich' 'Alexandria' 'Toledo' 'Farmington' 'Riverside'\n",
      " 'Torrance' 'Round Rock' 'Boca Raton' 'Virginia Beach' 'Murrieta'\n",
      " 'Olympia' 'Washington' 'Jefferson City' 'Saint Peters' 'Rockford'\n",
      " 'Brownsville' 'Yonkers' 'Oakland' 'Clinton' 'Encinitas' 'Roswell'\n",
      " 'Jonesboro' 'Antioch' 'Homestead' 'La Porte' 'Lansing' 'Cuyahoga Falls'\n",
      " 'Reno' 'Harrisonburg' 'Escondido' 'Royal Oak' 'Rockville' 'Coral Springs'\n",
      " 'Buffalo' 'Boynton Beach' 'Gulfport' 'Fresno' 'Greenville' 'Macon'\n",
      " 'Cedar Rapids' 'Providence' 'Pueblo' 'Deltona' 'Murray' 'Middletown'\n",
      " 'Freeport' 'Pico Rivera' 'Provo' 'Pleasant Grove' 'Smyrna' 'Parma'\n",
      " 'Mobile' 'New Bedford' 'Irving' 'Vineland' 'Glendale' 'Niagara Falls'\n",
      " 'Thomasville' 'Westminster' 'Coppell' 'Pomona' 'North Las Vegas'\n",
      " 'Allentown' 'Tempe' 'Laguna Niguel' 'Bridgeton' 'Everett' 'Watertown'\n",
      " 'Appleton' 'Bellevue' 'Allen' 'El Paso' 'Grapevine' 'Carrollton' 'Kent'\n",
      " 'Lafayette' 'Tigard' 'Skokie' 'Plano' 'Suffolk' 'Indianapolis' 'Bayonne'\n",
      " 'Greensboro' 'Baltimore' 'Kenosha' 'Olathe' 'Tulsa' 'Redmond' 'Raleigh'\n",
      " 'Muskogee' 'Meriden' 'Bowling Green' 'South Bend' 'Spokane' 'Keller'\n",
      " 'Port Orange' 'Medford' 'Charlottesville' 'Missoula' 'Apopka' 'Reading'\n",
      " 'Broomfield' 'Paterson' 'Oklahoma City' 'Chesapeake' 'Lubbock'\n",
      " 'Johnson City' 'San Bernardino' 'Leominster' 'Bozeman' 'Perth Amboy'\n",
      " 'Ontario' 'Rancho Cucamonga' 'Moorhead' 'Mesquite' 'Stockton'\n",
      " 'Ormond Beach' 'Sunnyvale' 'York' 'College Station' 'Saint Louis'\n",
      " 'Manteca' 'San Angelo' 'Salt Lake City' 'Knoxville' 'Little Rock'\n",
      " 'Lincoln Park' 'Marion' 'Littleton' 'Bangor' 'Southaven' 'New Castle'\n",
      " 'Midland' 'Sioux Falls' 'Fort Collins' 'Clarksville' 'Sacramento'\n",
      " 'Thousand Oaks' 'Malden' 'Holyoke' 'Albuquerque' 'Sparks' 'Coachella'\n",
      " 'Elmhurst' 'Passaic' 'North Charleston' 'Newport News' 'Jamestown'\n",
      " 'Mishawaka' 'La Quinta' 'Tallahassee' 'Nashville' 'Bellingham'\n",
      " 'Woodstock' 'Haltom City' 'Wheeling' 'Summerville' 'Hot Springs'\n",
      " 'Englewood' 'Las Cruces' 'Hoover' 'Frisco' 'Vacaville' 'Waukesha'\n",
      " 'Bakersfield' 'Pompano Beach' 'Corpus Christi' 'Redondo Beach' 'Orlando'\n",
      " 'Orange' 'Lake Charles' 'Highland Park' 'Hempstead' 'Noblesville'\n",
      " 'Apple Valley' 'Mount Pleasant' 'Sterling Heights' 'Eau Claire' 'Pharr'\n",
      " 'Billings' 'Gresham' 'Chattanooga' 'Meridian' 'Bolingbrook' 'Maple Grove'\n",
      " 'Woodland' 'Missouri City' 'Pearland' 'San Mateo' 'Grand Rapids'\n",
      " 'Visalia' 'Overland Park' 'Temecula' 'Yucaipa' 'Revere' 'Conroe'\n",
      " 'Tinley Park' 'Dubuque' 'Dearborn Heights' 'Santa Fe' 'Hickory'\n",
      " 'Carol Stream' 'Saint Cloud' 'North Miami' 'Plantation'\n",
      " 'Port Saint Lucie' 'Rock Hill' 'Odessa' 'West Allis' 'Chula Vista'\n",
      " 'Manhattan' 'Altoona' 'Thornton' 'Champaign' 'Texarkana' 'Edinburg'\n",
      " 'Baytown' 'Greenwood' 'Woonsocket' 'Superior' 'Bedford' 'Covington'\n",
      " 'Broken Arrow' 'Miramar' 'Hollywood' 'Deer Park' 'Wichita' 'Mcallen'\n",
      " 'Iowa City' 'Boise' 'Cranston' 'Port Arthur' 'Citrus Heights'\n",
      " 'The Colony' 'Daytona Beach' 'Bullhead City' 'Portage' 'Fargo' 'Elkhart'\n",
      " 'San Gabriel' 'Margate' 'Sandy Springs' 'Mentor' 'Lawton' 'Hampton'\n",
      " 'Rome' 'La Crosse' 'Lewiston' 'Hattiesburg' 'Danville' 'Logan'\n",
      " 'Waterbury' 'Athens' 'Avondale' 'Marietta' 'Yuma' 'Wausau' 'Pasco'\n",
      " 'Oak Park' 'Pensacola' 'League City' 'Gaithersburg' 'Lehi' 'Tuscaloosa'\n",
      " 'Moreno Valley' 'Georgetown' 'Loveland' 'Chandler' 'Helena' 'Kirkwood'\n",
      " 'Waco' 'Frankfort' 'Bethlehem' 'Grand Island' 'Woodbury' 'Rogers'\n",
      " 'Clovis' 'Jupiter' 'Santa Barbara' 'Cedar Hill' 'Norfolk' 'Draper'\n",
      " 'Ann Arbor' 'La Mesa' 'Pocatello' 'Holland' 'Milford' 'Buffalo Grove'\n",
      " 'Lake Forest' 'Redding' 'Chico' 'Utica' 'Conway' 'Cheyenne' 'Owensboro'\n",
      " 'Caldwell' 'Kenner' 'Nashua' 'Bartlett' 'Redwood City' 'Lebanon'\n",
      " 'Santa Maria' 'Des Plaines' 'Longview' 'Hendersonville' 'Waterloo'\n",
      " 'Cambridge' 'Palatine' 'Beverly' 'Eugene' 'Oxnard' 'Renton' 'Glenview'\n",
      " 'Delray Beach' 'Commerce City' 'Texas City' 'Wilson' 'Rio Rancho'\n",
      " 'Goldsboro' 'Montebello' 'El Cajon' 'Beaumont' 'West Palm Beach'\n",
      " 'Abilene' 'Normal' 'Saint Charles' 'Camarillo' 'Hillsboro' 'Burbank'\n",
      " 'Modesto' 'Garden City' 'Atlantic City' 'Longmont' 'Davis' 'Morgan Hill'\n",
      " 'Clifton' 'Sheboygan' 'East Point' 'Rapid City' 'Andover' 'Kissimmee'\n",
      " 'Shelton' 'Danbury' 'Sanford' 'San Marcos' 'Greeley' 'Mansfield' 'Elyria'\n",
      " 'Twin Falls' 'Coral Gables' 'Romeoville' 'Marlborough' 'Laurel' 'Bryan'\n",
      " 'Pine Bluff' 'Aberdeen' 'Hagerstown' 'East Orange' 'Arlington Heights'\n",
      " 'Oswego' 'Coon Rapids' 'San Clemente' 'San Luis Obispo' 'Springdale'\n",
      " 'Lodi' 'Mason']\n"
     ]
    },
    {
     "data": {
      "text/plain": [
       "531"
      ]
     },
     "execution_count": 19,
     "metadata": {},
     "output_type": "execute_result"
    }
   ],
   "source": [
    "print(df['City'].unique())\n",
    "no1 = df['City'].nunique()\n",
    "no1\n",
    "#we look at the number and names of the cities across the USA around which our business is expanded.\n",
    "# 2.72% of us cities have SampleStore"
   ]
  },
  {
   "cell_type": "code",
   "execution_count": 21,
   "id": "f9d6a71b-04f1-4ec0-8c11-b7767480840d",
   "metadata": {},
   "outputs": [
    {
     "name": "stdout",
     "output_type": "stream",
     "text": [
      "['Kentucky' 'California' 'Florida' 'North Carolina' 'Washington' 'Texas'\n",
      " 'Wisconsin' 'Utah' 'Nebraska' 'Pennsylvania' 'Illinois' 'Minnesota'\n",
      " 'Michigan' 'Delaware' 'Indiana' 'New York' 'Arizona' 'Virginia'\n",
      " 'Tennessee' 'Alabama' 'South Carolina' 'Oregon' 'Colorado' 'Iowa' 'Ohio'\n",
      " 'Missouri' 'Oklahoma' 'New Mexico' 'Louisiana' 'Connecticut' 'New Jersey'\n",
      " 'Massachusetts' 'Georgia' 'Nevada' 'Rhode Island' 'Mississippi'\n",
      " 'Arkansas' 'Montana' 'New Hampshire' 'Maryland' 'District of Columbia'\n",
      " 'Kansas' 'Vermont' 'Maine' 'South Dakota' 'Idaho' 'North Dakota'\n",
      " 'Wyoming' 'West Virginia']\n"
     ]
    },
    {
     "data": {
      "text/plain": [
       "49"
      ]
     },
     "execution_count": 21,
     "metadata": {},
     "output_type": "execute_result"
    }
   ],
   "source": [
    "print(df['State'].unique())\n",
    "no2 = df['State'].nunique()\n",
    "no2\n",
    "#98% of the states in us have SampleStore\n",
    "#observe the cities and state, it can be concluded that the business is well expanded over the USA"
   ]
  },
  {
   "cell_type": "code",
   "execution_count": 23,
   "id": "b40fe824-a113-4fbe-aaa2-ba0d73f2790b",
   "metadata": {},
   "outputs": [
    {
     "name": "stdout",
     "output_type": "stream",
     "text": [
      "['Furniture' 'Office Supplies' 'Technology']\n"
     ]
    }
   ],
   "source": [
    "print(df['Category'].unique())\n",
    "#SampleStore supplies furnitures,office suplies and technology"
   ]
  },
  {
   "cell_type": "code",
   "execution_count": 22,
   "id": "a856e850-9e8a-4140-aee4-51b1c00176f0",
   "metadata": {},
   "outputs": [
    {
     "data": {
      "text/plain": [
       "Index(['Ship Mode', 'Segment', 'Country', 'City', 'State', 'Postal Code',\n",
       "       'Region', 'Category', 'Sub-Category', 'Sales', 'Quantity', 'Discount',\n",
       "       'Profit'],\n",
       "      dtype='object')"
      ]
     },
     "execution_count": 22,
     "metadata": {},
     "output_type": "execute_result"
    }
   ],
   "source": [
    "df.columns"
   ]
  },
  {
   "cell_type": "code",
   "execution_count": 27,
   "id": "9c55ce06-f383-4f3b-bc5d-62f72b982aeb",
   "metadata": {},
   "outputs": [
    {
     "name": "stdout",
     "output_type": "stream",
     "text": [
      "['Bookcases' 'Chairs' 'Labels' 'Tables' 'Storage' 'Furnishings' 'Art'\n",
      " 'Phones' 'Binders' 'Appliances' 'Paper' 'Accessories' 'Envelopes'\n",
      " 'Fasteners' 'Supplies' 'Machines' 'Copiers']\n",
      "17\n"
     ]
    }
   ],
   "source": [
    "print(df['Sub-Category'].unique())\n",
    "#supplies the below items\n",
    "print(df['Sub-Category'].nunique())\n",
    "#there are 3 categories and 17 sub-categories"
   ]
  },
  {
   "cell_type": "code",
   "execution_count": 25,
   "id": "989e46fd-dc4c-48f7-ac39-b59403f694e2",
   "metadata": {},
   "outputs": [
    {
     "name": "stdout",
     "output_type": "stream",
     "text": [
      "[261.96  731.94   14.62  ... 437.472  97.98  243.16 ]\n"
     ]
    }
   ],
   "source": [
    "print(df['Sales'].unique())"
   ]
  },
  {
   "cell_type": "code",
   "execution_count": 26,
   "id": "63763846-0f67-43d4-99b0-75660211cb14",
   "metadata": {},
   "outputs": [
    {
     "name": "stdout",
     "output_type": "stream",
     "text": [
      "['South' 'West' 'Central' 'East']\n"
     ]
    }
   ],
   "source": [
    "print(df['Region'].unique())"
   ]
  },
  {
   "cell_type": "code",
   "execution_count": 28,
   "id": "72d405a7-d53d-4e01-b5f2-35cdd1d44f45",
   "metadata": {},
   "outputs": [
    {
     "data": {
      "text/plain": [
       "New York City      915\n",
       "Los Angeles        747\n",
       "Philadelphia       537\n",
       "San Francisco      510\n",
       "Seattle            428\n",
       "                  ... \n",
       "Glenview             1\n",
       "Missouri City        1\n",
       "Rochester Hills      1\n",
       "Palatine             1\n",
       "Manhattan            1\n",
       "Name: City, Length: 531, dtype: int64"
      ]
     },
     "execution_count": 28,
     "metadata": {},
     "output_type": "execute_result"
    }
   ],
   "source": [
    "df['City'].value_counts()\n",
    "#highest no. of orders from NY\n",
    "#lowest no. of orders from Manhattan"
   ]
  },
  {
   "cell_type": "code",
   "execution_count": 29,
   "id": "32179f80-f304-417d-869c-5a01032e213e",
   "metadata": {},
   "outputs": [
    {
     "data": {
      "text/plain": [
       "Index(['Ship Mode', 'Segment', 'Country', 'City', 'State', 'Postal Code',\n",
       "       'Region', 'Category', 'Sub-Category', 'Sales', 'Quantity', 'Discount',\n",
       "       'Profit'],\n",
       "      dtype='object')"
      ]
     },
     "execution_count": 29,
     "metadata": {},
     "output_type": "execute_result"
    }
   ],
   "source": [
    "df.columns"
   ]
  },
  {
   "cell_type": "code",
   "execution_count": 30,
   "id": "b4c58911-c3b8-49f7-9c45-d37d14441156",
   "metadata": {},
   "outputs": [
    {
     "data": {
      "text/plain": [
       "California              2001\n",
       "New York                1128\n",
       "Texas                    985\n",
       "Pennsylvania             587\n",
       "Washington               506\n",
       "Illinois                 492\n",
       "Ohio                     469\n",
       "Florida                  383\n",
       "Michigan                 255\n",
       "North Carolina           249\n",
       "Arizona                  224\n",
       "Virginia                 224\n",
       "Georgia                  184\n",
       "Tennessee                183\n",
       "Colorado                 182\n",
       "Indiana                  149\n",
       "Kentucky                 139\n",
       "Massachusetts            135\n",
       "New Jersey               130\n",
       "Oregon                   124\n",
       "Wisconsin                110\n",
       "Maryland                 105\n",
       "Delaware                  96\n",
       "Minnesota                 89\n",
       "Connecticut               82\n",
       "Oklahoma                  66\n",
       "Missouri                  66\n",
       "Alabama                   61\n",
       "Arkansas                  60\n",
       "Rhode Island              56\n",
       "Utah                      53\n",
       "Mississippi               53\n",
       "Louisiana                 42\n",
       "South Carolina            42\n",
       "Nevada                    39\n",
       "Nebraska                  38\n",
       "New Mexico                37\n",
       "Iowa                      30\n",
       "New Hampshire             27\n",
       "Kansas                    24\n",
       "Idaho                     21\n",
       "Montana                   15\n",
       "South Dakota              12\n",
       "Vermont                   11\n",
       "District of Columbia      10\n",
       "Maine                      8\n",
       "North Dakota               7\n",
       "West Virginia              4\n",
       "Wyoming                    1\n",
       "Name: State, dtype: int64"
      ]
     },
     "execution_count": 30,
     "metadata": {},
     "output_type": "execute_result"
    }
   ],
   "source": [
    "df['State'].value_counts()\n",
    "#highest number of orders from California\n",
    "#lowest from wyoming"
   ]
  },
  {
   "cell_type": "code",
   "execution_count": 31,
   "id": "02422327-da52-47fa-9355-d023c9cd3663",
   "metadata": {},
   "outputs": [
    {
     "data": {
      "text/plain": [
       "West       3203\n",
       "East       2848\n",
       "Central    2323\n",
       "South      1620\n",
       "Name: Region, dtype: int64"
      ]
     },
     "execution_count": 31,
     "metadata": {},
     "output_type": "execute_result"
    }
   ],
   "source": [
    "df['Region'].value_counts()\n",
    "#business needs to be expanded in the South region, flourishing in West"
   ]
  },
  {
   "cell_type": "code",
   "execution_count": 32,
   "id": "ee224481-e071-435b-ad1b-4a1f74f25fbe",
   "metadata": {},
   "outputs": [
    {
     "data": {
      "text/plain": [
       "Office Supplies    6026\n",
       "Furniture          2121\n",
       "Technology         1847\n",
       "Name: Category, dtype: int64"
      ]
     },
     "execution_count": 32,
     "metadata": {},
     "output_type": "execute_result"
    }
   ],
   "source": [
    "df['Category'].value_counts()\n",
    "#best known for office supplies, needs improvement in technology"
   ]
  },
  {
   "cell_type": "code",
   "execution_count": 33,
   "id": "75c85644-40ac-4218-a32b-f798cabaee9e",
   "metadata": {},
   "outputs": [
    {
     "data": {
      "text/plain": [
       "Binders        1523\n",
       "Paper          1370\n",
       "Furnishings     957\n",
       "Phones          889\n",
       "Storage         846\n",
       "Art             796\n",
       "Accessories     775\n",
       "Chairs          617\n",
       "Appliances      466\n",
       "Labels          364\n",
       "Tables          319\n",
       "Envelopes       254\n",
       "Bookcases       228\n",
       "Fasteners       217\n",
       "Supplies        190\n",
       "Machines        115\n",
       "Copiers          68\n",
       "Name: Sub-Category, dtype: int64"
      ]
     },
     "execution_count": 33,
     "metadata": {},
     "output_type": "execute_result"
    }
   ],
   "source": [
    "df['Sub-Category'].value_counts()\n",
    "#out of office supplies, best known for binders,papers,phones and needs improvement in the sales of machines/ technological stuff"
   ]
  },
  {
   "cell_type": "code",
   "execution_count": null,
   "id": "0e00f80a-e0fe-436a-a009-3727d4a2c105",
   "metadata": {},
   "outputs": [],
   "source": [
    "#Now- this was about the data, basic insights from it and getting to know the data better, now, we need to dive deep down \n",
    "#Lets divide the entire dataset on the basis of pofit\n",
    "#hence - dataset is divided into 2 sections - one : causing profit, 2: causing loss"
   ]
  },
  {
   "cell_type": "code",
   "execution_count": null,
   "id": "d6893d69-9f8c-4c04-8dff-72148a99a6e7",
   "metadata": {},
   "outputs": [],
   "source": [
    "#loss-producing dataset"
   ]
  },
  {
   "cell_type": "code",
   "execution_count": 34,
   "id": "c8b9294d-c662-47ff-8297-889bba38ce43",
   "metadata": {},
   "outputs": [],
   "source": [
    "loss_df=new_df[new_df['Profit'] < 0]"
   ]
  },
  {
   "cell_type": "code",
   "execution_count": 42,
   "id": "c759e0c6-4764-4341-b9d0-bdd3e68eb34a",
   "metadata": {},
   "outputs": [
    {
     "name": "stdout",
     "output_type": "stream",
     "text": [
      "0       False\n",
      "1       False\n",
      "2       False\n",
      "3        True\n",
      "4       False\n",
      "        ...  \n",
      "9989    False\n",
      "9990    False\n",
      "9991    False\n",
      "9992    False\n",
      "9993    False\n",
      "Name: Profit, Length: 9994, dtype: bool\n"
     ]
    }
   ],
   "source": [
    "print(df['Profit'] < 0)"
   ]
  },
  {
   "cell_type": "code",
   "execution_count": 35,
   "id": "8d811070-4cde-4671-8b79-fc905b92809c",
   "metadata": {},
   "outputs": [
    {
     "data": {
      "text/html": [
       "<div>\n",
       "<style scoped>\n",
       "    .dataframe tbody tr th:only-of-type {\n",
       "        vertical-align: middle;\n",
       "    }\n",
       "\n",
       "    .dataframe tbody tr th {\n",
       "        vertical-align: top;\n",
       "    }\n",
       "\n",
       "    .dataframe thead th {\n",
       "        text-align: right;\n",
       "    }\n",
       "</style>\n",
       "<table border=\"1\" class=\"dataframe\">\n",
       "  <thead>\n",
       "    <tr style=\"text-align: right;\">\n",
       "      <th></th>\n",
       "      <th>Segment</th>\n",
       "      <th>Country</th>\n",
       "      <th>City</th>\n",
       "      <th>State</th>\n",
       "      <th>Postal Code</th>\n",
       "      <th>Region</th>\n",
       "      <th>Category</th>\n",
       "      <th>Sub-Category</th>\n",
       "      <th>Sales</th>\n",
       "      <th>Quantity</th>\n",
       "      <th>Discount</th>\n",
       "      <th>Profit</th>\n",
       "    </tr>\n",
       "  </thead>\n",
       "  <tbody>\n",
       "    <tr>\n",
       "      <th>3</th>\n",
       "      <td>Consumer</td>\n",
       "      <td>United States</td>\n",
       "      <td>Fort Lauderdale</td>\n",
       "      <td>Florida</td>\n",
       "      <td>33311</td>\n",
       "      <td>South</td>\n",
       "      <td>Furniture</td>\n",
       "      <td>Tables</td>\n",
       "      <td>957.5775</td>\n",
       "      <td>5</td>\n",
       "      <td>0.45</td>\n",
       "      <td>-383.0310</td>\n",
       "    </tr>\n",
       "    <tr>\n",
       "      <th>14</th>\n",
       "      <td>Home Office</td>\n",
       "      <td>United States</td>\n",
       "      <td>Fort Worth</td>\n",
       "      <td>Texas</td>\n",
       "      <td>76106</td>\n",
       "      <td>Central</td>\n",
       "      <td>Office Supplies</td>\n",
       "      <td>Appliances</td>\n",
       "      <td>68.8100</td>\n",
       "      <td>5</td>\n",
       "      <td>0.80</td>\n",
       "      <td>-123.8580</td>\n",
       "    </tr>\n",
       "    <tr>\n",
       "      <th>15</th>\n",
       "      <td>Home Office</td>\n",
       "      <td>United States</td>\n",
       "      <td>Fort Worth</td>\n",
       "      <td>Texas</td>\n",
       "      <td>76106</td>\n",
       "      <td>Central</td>\n",
       "      <td>Office Supplies</td>\n",
       "      <td>Binders</td>\n",
       "      <td>2.5440</td>\n",
       "      <td>3</td>\n",
       "      <td>0.80</td>\n",
       "      <td>-3.8160</td>\n",
       "    </tr>\n",
       "    <tr>\n",
       "      <th>23</th>\n",
       "      <td>Consumer</td>\n",
       "      <td>United States</td>\n",
       "      <td>Philadelphia</td>\n",
       "      <td>Pennsylvania</td>\n",
       "      <td>19140</td>\n",
       "      <td>East</td>\n",
       "      <td>Furniture</td>\n",
       "      <td>Chairs</td>\n",
       "      <td>71.3720</td>\n",
       "      <td>2</td>\n",
       "      <td>0.30</td>\n",
       "      <td>-1.0196</td>\n",
       "    </tr>\n",
       "    <tr>\n",
       "      <th>27</th>\n",
       "      <td>Consumer</td>\n",
       "      <td>United States</td>\n",
       "      <td>Philadelphia</td>\n",
       "      <td>Pennsylvania</td>\n",
       "      <td>19140</td>\n",
       "      <td>East</td>\n",
       "      <td>Furniture</td>\n",
       "      <td>Bookcases</td>\n",
       "      <td>3083.4300</td>\n",
       "      <td>7</td>\n",
       "      <td>0.50</td>\n",
       "      <td>-1665.0522</td>\n",
       "    </tr>\n",
       "    <tr>\n",
       "      <th>...</th>\n",
       "      <td>...</td>\n",
       "      <td>...</td>\n",
       "      <td>...</td>\n",
       "      <td>...</td>\n",
       "      <td>...</td>\n",
       "      <td>...</td>\n",
       "      <td>...</td>\n",
       "      <td>...</td>\n",
       "      <td>...</td>\n",
       "      <td>...</td>\n",
       "      <td>...</td>\n",
       "      <td>...</td>\n",
       "    </tr>\n",
       "    <tr>\n",
       "      <th>9920</th>\n",
       "      <td>Corporate</td>\n",
       "      <td>United States</td>\n",
       "      <td>Bryan</td>\n",
       "      <td>Texas</td>\n",
       "      <td>77803</td>\n",
       "      <td>Central</td>\n",
       "      <td>Office Supplies</td>\n",
       "      <td>Binders</td>\n",
       "      <td>22.3860</td>\n",
       "      <td>7</td>\n",
       "      <td>0.80</td>\n",
       "      <td>-35.8176</td>\n",
       "    </tr>\n",
       "    <tr>\n",
       "      <th>9921</th>\n",
       "      <td>Home Office</td>\n",
       "      <td>United States</td>\n",
       "      <td>Akron</td>\n",
       "      <td>Ohio</td>\n",
       "      <td>44312</td>\n",
       "      <td>East</td>\n",
       "      <td>Office Supplies</td>\n",
       "      <td>Binders</td>\n",
       "      <td>5.7420</td>\n",
       "      <td>3</td>\n",
       "      <td>0.70</td>\n",
       "      <td>-4.5936</td>\n",
       "    </tr>\n",
       "    <tr>\n",
       "      <th>9931</th>\n",
       "      <td>Consumer</td>\n",
       "      <td>United States</td>\n",
       "      <td>San Bernardino</td>\n",
       "      <td>California</td>\n",
       "      <td>92404</td>\n",
       "      <td>West</td>\n",
       "      <td>Furniture</td>\n",
       "      <td>Bookcases</td>\n",
       "      <td>683.3320</td>\n",
       "      <td>4</td>\n",
       "      <td>0.15</td>\n",
       "      <td>-40.1960</td>\n",
       "    </tr>\n",
       "    <tr>\n",
       "      <th>9937</th>\n",
       "      <td>Corporate</td>\n",
       "      <td>United States</td>\n",
       "      <td>Los Angeles</td>\n",
       "      <td>California</td>\n",
       "      <td>90049</td>\n",
       "      <td>West</td>\n",
       "      <td>Furniture</td>\n",
       "      <td>Tables</td>\n",
       "      <td>71.0880</td>\n",
       "      <td>2</td>\n",
       "      <td>0.20</td>\n",
       "      <td>-1.7772</td>\n",
       "    </tr>\n",
       "    <tr>\n",
       "      <th>9962</th>\n",
       "      <td>Home Office</td>\n",
       "      <td>United States</td>\n",
       "      <td>Houston</td>\n",
       "      <td>Texas</td>\n",
       "      <td>77041</td>\n",
       "      <td>Central</td>\n",
       "      <td>Furniture</td>\n",
       "      <td>Bookcases</td>\n",
       "      <td>383.4656</td>\n",
       "      <td>4</td>\n",
       "      <td>0.32</td>\n",
       "      <td>-67.6704</td>\n",
       "    </tr>\n",
       "  </tbody>\n",
       "</table>\n",
       "<p>1871 rows × 12 columns</p>\n",
       "</div>"
      ],
      "text/plain": [
       "          Segment        Country             City         State  Postal Code  \\\n",
       "3        Consumer  United States  Fort Lauderdale       Florida        33311   \n",
       "14    Home Office  United States       Fort Worth         Texas        76106   \n",
       "15    Home Office  United States       Fort Worth         Texas        76106   \n",
       "23       Consumer  United States     Philadelphia  Pennsylvania        19140   \n",
       "27       Consumer  United States     Philadelphia  Pennsylvania        19140   \n",
       "...           ...            ...              ...           ...          ...   \n",
       "9920    Corporate  United States            Bryan         Texas        77803   \n",
       "9921  Home Office  United States            Akron          Ohio        44312   \n",
       "9931     Consumer  United States   San Bernardino    California        92404   \n",
       "9937    Corporate  United States      Los Angeles    California        90049   \n",
       "9962  Home Office  United States          Houston         Texas        77041   \n",
       "\n",
       "       Region         Category Sub-Category      Sales  Quantity  Discount  \\\n",
       "3       South        Furniture       Tables   957.5775         5      0.45   \n",
       "14    Central  Office Supplies   Appliances    68.8100         5      0.80   \n",
       "15    Central  Office Supplies      Binders     2.5440         3      0.80   \n",
       "23       East        Furniture       Chairs    71.3720         2      0.30   \n",
       "27       East        Furniture    Bookcases  3083.4300         7      0.50   \n",
       "...       ...              ...          ...        ...       ...       ...   \n",
       "9920  Central  Office Supplies      Binders    22.3860         7      0.80   \n",
       "9921     East  Office Supplies      Binders     5.7420         3      0.70   \n",
       "9931     West        Furniture    Bookcases   683.3320         4      0.15   \n",
       "9937     West        Furniture       Tables    71.0880         2      0.20   \n",
       "9962  Central        Furniture    Bookcases   383.4656         4      0.32   \n",
       "\n",
       "         Profit  \n",
       "3     -383.0310  \n",
       "14    -123.8580  \n",
       "15      -3.8160  \n",
       "23      -1.0196  \n",
       "27   -1665.0522  \n",
       "...         ...  \n",
       "9920   -35.8176  \n",
       "9921    -4.5936  \n",
       "9931   -40.1960  \n",
       "9937    -1.7772  \n",
       "9962   -67.6704  \n",
       "\n",
       "[1871 rows x 12 columns]"
      ]
     },
     "execution_count": 35,
     "metadata": {},
     "output_type": "execute_result"
    }
   ],
   "source": [
    "loss_df"
   ]
  },
  {
   "cell_type": "code",
   "execution_count": 43,
   "id": "37c12447-a04a-4f5d-b255-76d66c7e5780",
   "metadata": {},
   "outputs": [
    {
     "data": {
      "text/plain": [
       "(1871, 12)"
      ]
     },
     "execution_count": 43,
     "metadata": {},
     "output_type": "execute_result"
    }
   ],
   "source": [
    "loss_df.shape\n",
    "#out of 9994 data observations, 1871 are in loss, that means 18.7% of the data is in loss"
   ]
  },
  {
   "cell_type": "code",
   "execution_count": 44,
   "id": "820fa130-921d-43b2-8a52-c2f9e9cad5d5",
   "metadata": {},
   "outputs": [
    {
     "data": {
      "text/plain": [
       "(9994, 13)"
      ]
     },
     "execution_count": 44,
     "metadata": {},
     "output_type": "execute_result"
    }
   ],
   "source": [
    "df.shape"
   ]
  },
  {
   "cell_type": "code",
   "execution_count": 48,
   "id": "79d686f7-f97c-4f5c-a32d-ce39ca60f31b",
   "metadata": {},
   "outputs": [
    {
     "data": {
      "text/plain": [
       "Index(['Segment', 'Country', 'City', 'State', 'Postal Code', 'Region',\n",
       "       'Category', 'Sub-Category', 'Sales', 'Quantity', 'Discount', 'Profit'],\n",
       "      dtype='object')"
      ]
     },
     "execution_count": 48,
     "metadata": {},
     "output_type": "execute_result"
    }
   ],
   "source": [
    "loss_df.columns"
   ]
  },
  {
   "cell_type": "code",
   "execution_count": 46,
   "id": "e1ef60d4-8e7a-4661-b1c3-3c772e0f7141",
   "metadata": {},
   "outputs": [
    {
     "data": {
      "text/plain": [
       "-156131.2857"
      ]
     },
     "execution_count": 46,
     "metadata": {},
     "output_type": "execute_result"
    }
   ],
   "source": [
    "toloss=loss_df['Profit'].sum()\n",
    "toloss\n",
    "#we have faced a total loss of $1,56,131.287"
   ]
  },
  {
   "cell_type": "code",
   "execution_count": 71,
   "id": "3443312c-3d1d-48f5-b24d-069cad7723a7",
   "metadata": {},
   "outputs": [
    {
     "data": {
      "text/plain": [
       "<seaborn.axisgrid.PairGrid at 0x1945ffa6af0>"
      ]
     },
     "execution_count": 71,
     "metadata": {},
     "output_type": "execute_result"
    },
    {
     "data": {
      "image/png": "[encoded data removed]",
      "text/plain": [
       "<Figure size 720x720 with 20 Axes>"
      ]
     },
     "metadata": {
      "needs_background": "light"
     },
     "output_type": "display_data"
    }
   ],
   "source": [
    "\n",
    "idff = idf.drop('Postal Code', axis = 1)\n",
    "sns.pairplot(idff)"
   ]
  },
  {
   "cell_type": "code",
   "execution_count": 74,
   "id": "0de681fc-b242-441c-9c01-2fe50a49218d",
   "metadata": {},
   "outputs": [
    {
     "data": {
      "text/html": [
       "<div>\n",
       "<style scoped>\n",
       "    .dataframe tbody tr th:only-of-type {\n",
       "        vertical-align: middle;\n",
       "    }\n",
       "\n",
       "    .dataframe tbody tr th {\n",
       "        vertical-align: top;\n",
       "    }\n",
       "\n",
       "    .dataframe thead th {\n",
       "        text-align: right;\n",
       "    }\n",
       "</style>\n",
       "<table border=\"1\" class=\"dataframe\">\n",
       "  <thead>\n",
       "    <tr style=\"text-align: right;\">\n",
       "      <th></th>\n",
       "      <th>Sales</th>\n",
       "      <th>Quantity</th>\n",
       "      <th>Discount</th>\n",
       "      <th>Profit</th>\n",
       "    </tr>\n",
       "    <tr>\n",
       "      <th>Segment</th>\n",
       "      <th></th>\n",
       "      <th></th>\n",
       "      <th></th>\n",
       "      <th></th>\n",
       "    </tr>\n",
       "  </thead>\n",
       "  <tbody>\n",
       "    <tr>\n",
       "      <th>Consumer</th>\n",
       "      <td>247196.2460</td>\n",
       "      <td>3651</td>\n",
       "      <td>476.76</td>\n",
       "      <td>-84945.7112</td>\n",
       "    </tr>\n",
       "    <tr>\n",
       "      <th>Corporate</th>\n",
       "      <td>131860.5383</td>\n",
       "      <td>2191</td>\n",
       "      <td>272.00</td>\n",
       "      <td>-44787.2076</td>\n",
       "    </tr>\n",
       "    <tr>\n",
       "      <th>Home Office</th>\n",
       "      <td>89650.3705</td>\n",
       "      <td>1198</td>\n",
       "      <td>150.98</td>\n",
       "      <td>-26398.3669</td>\n",
       "    </tr>\n",
       "  </tbody>\n",
       "</table>\n",
       "</div>"
      ],
      "text/plain": [
       "                   Sales  Quantity  Discount      Profit\n",
       "Segment                                                 \n",
       "Consumer     247196.2460      3651    476.76 -84945.7112\n",
       "Corporate    131860.5383      2191    272.00 -44787.2076\n",
       "Home Office   89650.3705      1198    150.98 -26398.3669"
      ]
     },
     "execution_count": 74,
     "metadata": {},
     "output_type": "execute_result"
    }
   ],
   "source": [
    "idff"
   ]
  },
  {
   "cell_type": "code",
   "execution_count": 79,
   "id": "83525b5f-654e-4180-a386-88a2ab508e27",
   "metadata": {},
   "outputs": [
    {
     "data": {
      "text/html": [
       "<div>\n",
       "<style scoped>\n",
       "    .dataframe tbody tr th:only-of-type {\n",
       "        vertical-align: middle;\n",
       "    }\n",
       "\n",
       "    .dataframe tbody tr th {\n",
       "        vertical-align: top;\n",
       "    }\n",
       "\n",
       "    .dataframe thead th {\n",
       "        text-align: right;\n",
       "    }\n",
       "</style>\n",
       "<table border=\"1\" class=\"dataframe\">\n",
       "  <thead>\n",
       "    <tr style=\"text-align: right;\">\n",
       "      <th></th>\n",
       "      <th>Sales</th>\n",
       "      <th>Quantity</th>\n",
       "      <th>Discount</th>\n",
       "      <th>Profit</th>\n",
       "    </tr>\n",
       "    <tr>\n",
       "      <th>Region</th>\n",
       "      <th></th>\n",
       "      <th></th>\n",
       "      <th></th>\n",
       "      <th></th>\n",
       "    </tr>\n",
       "  </thead>\n",
       "  <tbody>\n",
       "    <tr>\n",
       "      <th>Central</th>\n",
       "      <td>141282.6588</td>\n",
       "      <td>2803</td>\n",
       "      <td>407.14</td>\n",
       "      <td>-56314.8850</td>\n",
       "    </tr>\n",
       "    <tr>\n",
       "      <th>East</th>\n",
       "      <td>160864.0120</td>\n",
       "      <td>1988</td>\n",
       "      <td>247.10</td>\n",
       "      <td>-49590.6075</td>\n",
       "    </tr>\n",
       "    <tr>\n",
       "      <th>South</th>\n",
       "      <td>91635.1850</td>\n",
       "      <td>1004</td>\n",
       "      <td>127.35</td>\n",
       "      <td>-27504.8323</td>\n",
       "    </tr>\n",
       "    <tr>\n",
       "      <th>West</th>\n",
       "      <td>74925.2990</td>\n",
       "      <td>1245</td>\n",
       "      <td>118.15</td>\n",
       "      <td>-22720.9609</td>\n",
       "    </tr>\n",
       "  </tbody>\n",
       "</table>\n",
       "</div>"
      ],
      "text/plain": [
       "               Sales  Quantity  Discount      Profit\n",
       "Region                                              \n",
       "Central  141282.6588      2803    407.14 -56314.8850\n",
       "East     160864.0120      1988    247.10 -49590.6075\n",
       "South     91635.1850      1004    127.35 -27504.8323\n",
       "West      74925.2990      1245    118.15 -22720.9609"
      ]
     },
     "execution_count": 79,
     "metadata": {},
     "output_type": "execute_result"
    },
    {
     "data": {
      "image/png": "[encoded data removed]",
      "text/plain": [
       "<Figure size 720x720 with 20 Axes>"
      ]
     },
     "metadata": {
      "needs_background": "light"
     },
     "output_type": "display_data"
    }
   ],
   "source": [
    "rf = loss_df.groupby(by='Region').sum()\n",
    "sns.pairplot(rff)\n",
    "rff = rf.drop('Postal Code' , axis = 1)\n",
    "rff"
   ]
  },
  {
   "cell_type": "code",
   "execution_count": 54,
   "id": "d9f752fc-291b-47aa-84f1-646792b8209d",
   "metadata": {},
   "outputs": [
    {
     "data": {
      "text/plain": [
       "Index(['Ship Mode', 'Segment', 'Country', 'City', 'State', 'Postal Code',\n",
       "       'Region', 'Category', 'Sub-Category', 'Sales', 'Quantity', 'Discount',\n",
       "       'Profit'],\n",
       "      dtype='object')"
      ]
     },
     "execution_count": 54,
     "metadata": {},
     "output_type": "execute_result"
    }
   ],
   "source": [
    "df.columns"
   ]
  },
  {
   "cell_type": "code",
   "execution_count": 83,
   "id": "effd5f58-8e41-4e68-aeff-45d9edf221a6",
   "metadata": {},
   "outputs": [
    {
     "data": {
      "text/plain": [
       "<seaborn.axisgrid.PairGrid at 0x1946415d8b0>"
      ]
     },
     "execution_count": 83,
     "metadata": {},
     "output_type": "execute_result"
    },
    {
     "data": {
      "image/png": "[encoded data removed]",
      "text/plain": [
       "<Figure size 720x720 with 20 Axes>"
      ]
     },
     "metadata": {
      "needs_background": "light"
     },
     "output_type": "display_data"
    }
   ],
   "source": [
    "cf =loss_df.groupby(by='City').sum()\n",
    "cff = cf.drop('Postal Code', axis = 1)\n",
    "sns.pairplot(cff)"
   ]
  },
  {
   "cell_type": "code",
   "execution_count": 84,
   "id": "0b076dc7-401e-4cdf-9b42-6f5785966e3b",
   "metadata": {},
   "outputs": [
    {
     "data": {
      "text/plain": [
       "<seaborn.axisgrid.PairGrid at 0x19463dd1970>"
      ]
     },
     "execution_count": 84,
     "metadata": {},
     "output_type": "execute_result"
    },
    {
     "data": {
      "image/png": "[encoded data removed]",
      "text/plain": [
       "<Figure size 720x720 with 20 Axes>"
      ]
     },
     "metadata": {
      "needs_background": "light"
     },
     "output_type": "display_data"
    }
   ],
   "source": [
    "sf = loss_df.groupby(by='State').sum()\n",
    "sff = sf.drop('Postal Code', axis = 1)\n",
    "sns.pairplot(sff)"
   ]
  },
  {
   "cell_type": "code",
   "execution_count": 88,
   "id": "a6f28981-286d-49fb-9a71-422a1336bd1d",
   "metadata": {},
   "outputs": [
    {
     "data": {
      "text/html": [
       "<div>\n",
       "<style scoped>\n",
       "    .dataframe tbody tr th:only-of-type {\n",
       "        vertical-align: middle;\n",
       "    }\n",
       "\n",
       "    .dataframe tbody tr th {\n",
       "        vertical-align: top;\n",
       "    }\n",
       "\n",
       "    .dataframe thead th {\n",
       "        text-align: right;\n",
       "    }\n",
       "</style>\n",
       "<table border=\"1\" class=\"dataframe\">\n",
       "  <thead>\n",
       "    <tr style=\"text-align: right;\">\n",
       "      <th></th>\n",
       "      <th>Sales</th>\n",
       "      <th>Quantity</th>\n",
       "      <th>Discount</th>\n",
       "      <th>Profit</th>\n",
       "    </tr>\n",
       "    <tr>\n",
       "      <th>Sub-Category</th>\n",
       "      <th></th>\n",
       "      <th></th>\n",
       "      <th></th>\n",
       "      <th></th>\n",
       "    </tr>\n",
       "  </thead>\n",
       "  <tbody>\n",
       "    <tr>\n",
       "      <th>Accessories</th>\n",
       "      <td>10958.8000</td>\n",
       "      <td>330</td>\n",
       "      <td>18.20</td>\n",
       "      <td>-930.6265</td>\n",
       "    </tr>\n",
       "    <tr>\n",
       "      <th>Appliances</th>\n",
       "      <td>3382.5340</td>\n",
       "      <td>235</td>\n",
       "      <td>53.60</td>\n",
       "      <td>-8629.6412</td>\n",
       "    </tr>\n",
       "    <tr>\n",
       "      <th>Binders</th>\n",
       "      <td>36140.6130</td>\n",
       "      <td>2456</td>\n",
       "      <td>452.40</td>\n",
       "      <td>-38510.4964</td>\n",
       "    </tr>\n",
       "    <tr>\n",
       "      <th>Bookcases</th>\n",
       "      <td>48072.7408</td>\n",
       "      <td>422</td>\n",
       "      <td>37.99</td>\n",
       "      <td>-12152.2060</td>\n",
       "    </tr>\n",
       "    <tr>\n",
       "      <th>Chairs</th>\n",
       "      <td>91988.4560</td>\n",
       "      <td>876</td>\n",
       "      <td>61.40</td>\n",
       "      <td>-9880.8413</td>\n",
       "    </tr>\n",
       "    <tr>\n",
       "      <th>Fasteners</th>\n",
       "      <td>149.2800</td>\n",
       "      <td>55</td>\n",
       "      <td>2.40</td>\n",
       "      <td>-33.1952</td>\n",
       "    </tr>\n",
       "    <tr>\n",
       "      <th>Furnishings</th>\n",
       "      <td>12845.8440</td>\n",
       "      <td>597</td>\n",
       "      <td>88.60</td>\n",
       "      <td>-6490.9134</td>\n",
       "    </tr>\n",
       "    <tr>\n",
       "      <th>Machines</th>\n",
       "      <td>72456.2530</td>\n",
       "      <td>157</td>\n",
       "      <td>25.60</td>\n",
       "      <td>-30118.6682</td>\n",
       "    </tr>\n",
       "    <tr>\n",
       "      <th>Phones</th>\n",
       "      <td>35797.8400</td>\n",
       "      <td>476</td>\n",
       "      <td>46.60</td>\n",
       "      <td>-7530.6235</td>\n",
       "    </tr>\n",
       "    <tr>\n",
       "      <th>Storage</th>\n",
       "      <td>37869.0720</td>\n",
       "      <td>569</td>\n",
       "      <td>32.20</td>\n",
       "      <td>-6426.3038</td>\n",
       "    </tr>\n",
       "    <tr>\n",
       "      <th>Supplies</th>\n",
       "      <td>14067.1760</td>\n",
       "      <td>110</td>\n",
       "      <td>6.60</td>\n",
       "      <td>-3015.6219</td>\n",
       "    </tr>\n",
       "    <tr>\n",
       "      <th>Tables</th>\n",
       "      <td>104978.5460</td>\n",
       "      <td>757</td>\n",
       "      <td>74.15</td>\n",
       "      <td>-32412.1483</td>\n",
       "    </tr>\n",
       "  </tbody>\n",
       "</table>\n",
       "</div>"
      ],
      "text/plain": [
       "                    Sales  Quantity  Discount      Profit\n",
       "Sub-Category                                             \n",
       "Accessories    10958.8000       330     18.20   -930.6265\n",
       "Appliances      3382.5340       235     53.60  -8629.6412\n",
       "Binders        36140.6130      2456    452.40 -38510.4964\n",
       "Bookcases      48072.7408       422     37.99 -12152.2060\n",
       "Chairs         91988.4560       876     61.40  -9880.8413\n",
       "Fasteners        149.2800        55      2.40    -33.1952\n",
       "Furnishings    12845.8440       597     88.60  -6490.9134\n",
       "Machines       72456.2530       157     25.60 -30118.6682\n",
       "Phones         35797.8400       476     46.60  -7530.6235\n",
       "Storage        37869.0720       569     32.20  -6426.3038\n",
       "Supplies       14067.1760       110      6.60  -3015.6219\n",
       "Tables        104978.5460       757     74.15 -32412.1483"
      ]
     },
     "execution_count": 88,
     "metadata": {},
     "output_type": "execute_result"
    },
    {
     "data": {
      "image/png": "[encoded data removed]",
      "text/plain": [
       "<Figure size 720x720 with 20 Axes>"
      ]
     },
     "metadata": {
      "needs_background": "light"
     },
     "output_type": "display_data"
    }
   ],
   "source": [
    "scf = loss_df.groupby(by='Sub-Category').sum()\n",
    "scff = scf.drop('Postal Code', axis = 1)\n",
    "sns.pairplot(scff, diag_kind=\"hist\")\n",
    "scff"
   ]
  },
  {
   "cell_type": "code",
   "execution_count": 86,
   "id": "9ead5cbe-5d8c-45de-a353-8237348365c5",
   "metadata": {},
   "outputs": [
    {
     "data": {
      "text/html": [
       "<div>\n",
       "<style scoped>\n",
       "    .dataframe tbody tr th:only-of-type {\n",
       "        vertical-align: middle;\n",
       "    }\n",
       "\n",
       "    .dataframe tbody tr th {\n",
       "        vertical-align: top;\n",
       "    }\n",
       "\n",
       "    .dataframe thead th {\n",
       "        text-align: right;\n",
       "    }\n",
       "</style>\n",
       "<table border=\"1\" class=\"dataframe\">\n",
       "  <thead>\n",
       "    <tr style=\"text-align: right;\">\n",
       "      <th></th>\n",
       "      <th>Postal Code</th>\n",
       "      <th>Sales</th>\n",
       "      <th>Quantity</th>\n",
       "      <th>Discount</th>\n",
       "      <th>Profit</th>\n",
       "    </tr>\n",
       "    <tr>\n",
       "      <th>City</th>\n",
       "      <th></th>\n",
       "      <th></th>\n",
       "      <th></th>\n",
       "      <th></th>\n",
       "      <th></th>\n",
       "    </tr>\n",
       "  </thead>\n",
       "  <tbody>\n",
       "    <tr>\n",
       "      <th>Philadelphia</th>\n",
       "      <td>4783713</td>\n",
       "      <td>70460.5510</td>\n",
       "      <td>892</td>\n",
       "      <td>115.30</td>\n",
       "      <td>-19590.7411</td>\n",
       "    </tr>\n",
       "    <tr>\n",
       "      <th>Houston</th>\n",
       "      <td>14256474</td>\n",
       "      <td>37640.7304</td>\n",
       "      <td>683</td>\n",
       "      <td>104.14</td>\n",
       "      <td>-14785.3668</td>\n",
       "    </tr>\n",
       "    <tr>\n",
       "      <th>Chicago</th>\n",
       "      <td>9397492</td>\n",
       "      <td>19910.0120</td>\n",
       "      <td>541</td>\n",
       "      <td>88.20</td>\n",
       "      <td>-11120.6271</td>\n",
       "    </tr>\n",
       "    <tr>\n",
       "      <th>San Antonio</th>\n",
       "      <td>2580831</td>\n",
       "      <td>17395.1450</td>\n",
       "      <td>139</td>\n",
       "      <td>17.10</td>\n",
       "      <td>-7831.0254</td>\n",
       "    </tr>\n",
       "    <tr>\n",
       "      <th>Lancaster</th>\n",
       "      <td>683904</td>\n",
       "      <td>7699.2420</td>\n",
       "      <td>71</td>\n",
       "      <td>9.40</td>\n",
       "      <td>-7632.4946</td>\n",
       "    </tr>\n",
       "    <tr>\n",
       "      <th>Burlington</th>\n",
       "      <td>108868</td>\n",
       "      <td>12044.8740</td>\n",
       "      <td>19</td>\n",
       "      <td>2.00</td>\n",
       "      <td>-5999.3318</td>\n",
       "    </tr>\n",
       "    <tr>\n",
       "      <th>Dallas</th>\n",
       "      <td>5487794</td>\n",
       "      <td>9994.0562</td>\n",
       "      <td>280</td>\n",
       "      <td>39.30</td>\n",
       "      <td>-4208.5218</td>\n",
       "    </tr>\n",
       "    <tr>\n",
       "      <th>Jacksonville</th>\n",
       "      <td>1237176</td>\n",
       "      <td>31146.2710</td>\n",
       "      <td>154</td>\n",
       "      <td>18.85</td>\n",
       "      <td>-4059.9857</td>\n",
       "    </tr>\n",
       "    <tr>\n",
       "      <th>New York City</th>\n",
       "      <td>400828</td>\n",
       "      <td>19533.8020</td>\n",
       "      <td>132</td>\n",
       "      <td>12.20</td>\n",
       "      <td>-3966.0226</td>\n",
       "    </tr>\n",
       "    <tr>\n",
       "      <th>Louisville</th>\n",
       "      <td>640216</td>\n",
       "      <td>2884.7840</td>\n",
       "      <td>35</td>\n",
       "      <td>4.90</td>\n",
       "      <td>-3694.1045</td>\n",
       "    </tr>\n",
       "  </tbody>\n",
       "</table>\n",
       "</div>"
      ],
      "text/plain": [
       "               Postal Code       Sales  Quantity  Discount      Profit\n",
       "City                                                                  \n",
       "Philadelphia       4783713  70460.5510       892    115.30 -19590.7411\n",
       "Houston           14256474  37640.7304       683    104.14 -14785.3668\n",
       "Chicago            9397492  19910.0120       541     88.20 -11120.6271\n",
       "San Antonio        2580831  17395.1450       139     17.10  -7831.0254\n",
       "Lancaster           683904   7699.2420        71      9.40  -7632.4946\n",
       "Burlington          108868  12044.8740        19      2.00  -5999.3318\n",
       "Dallas             5487794   9994.0562       280     39.30  -4208.5218\n",
       "Jacksonville       1237176  31146.2710       154     18.85  -4059.9857\n",
       "New York City       400828  19533.8020       132     12.20  -3966.0226\n",
       "Louisville          640216   2884.7840        35      4.90  -3694.1045"
      ]
     },
     "execution_count": 86,
     "metadata": {},
     "output_type": "execute_result"
    }
   ],
   "source": [
    "loss_df.groupby(by='City').sum().sort_values('Profit',ascending=True).head(10)"
   ]
  },
  {
   "cell_type": "code",
   "execution_count": 100,
   "id": "6c97a95a-9fdd-47f3-a0eb-3d6075f5d1a9",
   "metadata": {},
   "outputs": [
    {
     "data": {
      "text/html": [
       "<div>\n",
       "<style scoped>\n",
       "    .dataframe tbody tr th:only-of-type {\n",
       "        vertical-align: middle;\n",
       "    }\n",
       "\n",
       "    .dataframe tbody tr th {\n",
       "        vertical-align: top;\n",
       "    }\n",
       "\n",
       "    .dataframe thead th {\n",
       "        text-align: right;\n",
       "    }\n",
       "</style>\n",
       "<table border=\"1\" class=\"dataframe\">\n",
       "  <thead>\n",
       "    <tr style=\"text-align: right;\">\n",
       "      <th></th>\n",
       "      <th>Postal Code</th>\n",
       "      <th>Sales</th>\n",
       "      <th>Quantity</th>\n",
       "      <th>Discount</th>\n",
       "      <th>Profit</th>\n",
       "    </tr>\n",
       "    <tr>\n",
       "      <th>State</th>\n",
       "      <th></th>\n",
       "      <th></th>\n",
       "      <th></th>\n",
       "      <th></th>\n",
       "      <th></th>\n",
       "    </tr>\n",
       "  </thead>\n",
       "  <tbody>\n",
       "    <tr>\n",
       "      <th>Texas</th>\n",
       "      <td>37388572</td>\n",
       "      <td>102656.4568</td>\n",
       "      <td>1855</td>\n",
       "      <td>263.24</td>\n",
       "      <td>-36813.1875</td>\n",
       "    </tr>\n",
       "    <tr>\n",
       "      <th>Ohio</th>\n",
       "      <td>9187384</td>\n",
       "      <td>49807.6240</td>\n",
       "      <td>778</td>\n",
       "      <td>98.70</td>\n",
       "      <td>-21750.0002</td>\n",
       "    </tr>\n",
       "    <tr>\n",
       "      <th>Pennsylvania</th>\n",
       "      <td>5291815</td>\n",
       "      <td>75792.2320</td>\n",
       "      <td>993</td>\n",
       "      <td>128.10</td>\n",
       "      <td>-21602.8515</td>\n",
       "    </tr>\n",
       "    <tr>\n",
       "      <th>Illinois</th>\n",
       "      <td>15479827</td>\n",
       "      <td>38626.2020</td>\n",
       "      <td>948</td>\n",
       "      <td>143.90</td>\n",
       "      <td>-19501.6975</td>\n",
       "    </tr>\n",
       "    <tr>\n",
       "      <th>North Carolina</th>\n",
       "      <td>1909180</td>\n",
       "      <td>28226.5400</td>\n",
       "      <td>300</td>\n",
       "      <td>34.40</td>\n",
       "      <td>-11557.9854</td>\n",
       "    </tr>\n",
       "    <tr>\n",
       "      <th>Colorado</th>\n",
       "      <td>5300931</td>\n",
       "      <td>12833.2140</td>\n",
       "      <td>269</td>\n",
       "      <td>34.40</td>\n",
       "      <td>-8900.9048</td>\n",
       "    </tr>\n",
       "    <tr>\n",
       "      <th>Florida</th>\n",
       "      <td>4155698</td>\n",
       "      <td>45694.1320</td>\n",
       "      <td>478</td>\n",
       "      <td>63.25</td>\n",
       "      <td>-8689.8295</td>\n",
       "    </tr>\n",
       "    <tr>\n",
       "      <th>Tennessee</th>\n",
       "      <td>2446904</td>\n",
       "      <td>17714.5130</td>\n",
       "      <td>226</td>\n",
       "      <td>29.70</td>\n",
       "      <td>-7257.0174</td>\n",
       "    </tr>\n",
       "    <tr>\n",
       "      <th>Arizona</th>\n",
       "      <td>7247267</td>\n",
       "      <td>14179.0490</td>\n",
       "      <td>354</td>\n",
       "      <td>40.20</td>\n",
       "      <td>-6656.7675</td>\n",
       "    </tr>\n",
       "    <tr>\n",
       "      <th>New York</th>\n",
       "      <td>489656</td>\n",
       "      <td>26533.3500</td>\n",
       "      <td>160</td>\n",
       "      <td>14.60</td>\n",
       "      <td>-5031.1378</td>\n",
       "    </tr>\n",
       "  </tbody>\n",
       "</table>\n",
       "</div>"
      ],
      "text/plain": [
       "                Postal Code        Sales  Quantity  Discount      Profit\n",
       "State                                                                   \n",
       "Texas              37388572  102656.4568      1855    263.24 -36813.1875\n",
       "Ohio                9187384   49807.6240       778     98.70 -21750.0002\n",
       "Pennsylvania        5291815   75792.2320       993    128.10 -21602.8515\n",
       "Illinois           15479827   38626.2020       948    143.90 -19501.6975\n",
       "North Carolina      1909180   28226.5400       300     34.40 -11557.9854\n",
       "Colorado            5300931   12833.2140       269     34.40  -8900.9048\n",
       "Florida             4155698   45694.1320       478     63.25  -8689.8295\n",
       "Tennessee           2446904   17714.5130       226     29.70  -7257.0174\n",
       "Arizona             7247267   14179.0490       354     40.20  -6656.7675\n",
       "New York             489656   26533.3500       160     14.60  -5031.1378"
      ]
     },
     "execution_count": 100,
     "metadata": {},
     "output_type": "execute_result"
    }
   ],
   "source": [
    "loss_df.groupby(by='State').sum().sort_values('Profit',ascending=True).head(10)"
   ]
  },
  {
   "cell_type": "code",
   "execution_count": 90,
   "id": "feb88676-9b18-4513-b6b3-c09471375800",
   "metadata": {},
   "outputs": [
    {
     "data": {
      "text/html": [
       "<div>\n",
       "<style scoped>\n",
       "    .dataframe tbody tr th:only-of-type {\n",
       "        vertical-align: middle;\n",
       "    }\n",
       "\n",
       "    .dataframe tbody tr th {\n",
       "        vertical-align: top;\n",
       "    }\n",
       "\n",
       "    .dataframe thead th {\n",
       "        text-align: right;\n",
       "    }\n",
       "</style>\n",
       "<table border=\"1\" class=\"dataframe\">\n",
       "  <thead>\n",
       "    <tr style=\"text-align: right;\">\n",
       "      <th></th>\n",
       "      <th>Postal Code</th>\n",
       "      <th>Sales</th>\n",
       "      <th>Quantity</th>\n",
       "      <th>Discount</th>\n",
       "      <th>Profit</th>\n",
       "    </tr>\n",
       "    <tr>\n",
       "      <th>Category</th>\n",
       "      <th></th>\n",
       "      <th></th>\n",
       "      <th></th>\n",
       "      <th></th>\n",
       "      <th></th>\n",
       "    </tr>\n",
       "  </thead>\n",
       "  <tbody>\n",
       "    <tr>\n",
       "      <th>Furniture</th>\n",
       "      <td>42626448</td>\n",
       "      <td>257885.5868</td>\n",
       "      <td>2652</td>\n",
       "      <td>262.14</td>\n",
       "      <td>-60936.1090</td>\n",
       "    </tr>\n",
       "    <tr>\n",
       "      <th>Office Supplies</th>\n",
       "      <td>48505006</td>\n",
       "      <td>91608.6750</td>\n",
       "      <td>3425</td>\n",
       "      <td>547.20</td>\n",
       "      <td>-56615.2585</td>\n",
       "    </tr>\n",
       "    <tr>\n",
       "      <th>Technology</th>\n",
       "      <td>13627937</td>\n",
       "      <td>119212.8930</td>\n",
       "      <td>963</td>\n",
       "      <td>90.40</td>\n",
       "      <td>-38579.9182</td>\n",
       "    </tr>\n",
       "  </tbody>\n",
       "</table>\n",
       "</div>"
      ],
      "text/plain": [
       "                 Postal Code        Sales  Quantity  Discount      Profit\n",
       "Category                                                                 \n",
       "Furniture           42626448  257885.5868      2652    262.14 -60936.1090\n",
       "Office Supplies     48505006   91608.6750      3425    547.20 -56615.2585\n",
       "Technology          13627937  119212.8930       963     90.40 -38579.9182"
      ]
     },
     "execution_count": 90,
     "metadata": {},
     "output_type": "execute_result"
    }
   ],
   "source": [
    "\n",
    "loss_df.groupby(by='Category').sum().sort_values('Profit',ascending=True).head(3)"
   ]
  },
  {
   "cell_type": "code",
   "execution_count": 91,
   "id": "199e9372-30d7-45b0-8566-4c5c3c720739",
   "metadata": {},
   "outputs": [
    {
     "data": {
      "text/html": [
       "<div>\n",
       "<style scoped>\n",
       "    .dataframe tbody tr th:only-of-type {\n",
       "        vertical-align: middle;\n",
       "    }\n",
       "\n",
       "    .dataframe tbody tr th {\n",
       "        vertical-align: top;\n",
       "    }\n",
       "\n",
       "    .dataframe thead th {\n",
       "        text-align: right;\n",
       "    }\n",
       "</style>\n",
       "<table border=\"1\" class=\"dataframe\">\n",
       "  <thead>\n",
       "    <tr style=\"text-align: right;\">\n",
       "      <th></th>\n",
       "      <th>Postal Code</th>\n",
       "      <th>Sales</th>\n",
       "      <th>Quantity</th>\n",
       "      <th>Discount</th>\n",
       "      <th>Profit</th>\n",
       "    </tr>\n",
       "    <tr>\n",
       "      <th>Sub-Category</th>\n",
       "      <th></th>\n",
       "      <th></th>\n",
       "      <th></th>\n",
       "      <th></th>\n",
       "      <th></th>\n",
       "    </tr>\n",
       "  </thead>\n",
       "  <tbody>\n",
       "    <tr>\n",
       "      <th>Binders</th>\n",
       "      <td>32609300</td>\n",
       "      <td>36140.6130</td>\n",
       "      <td>2456</td>\n",
       "      <td>452.40</td>\n",
       "      <td>-38510.4964</td>\n",
       "    </tr>\n",
       "    <tr>\n",
       "      <th>Tables</th>\n",
       "      <td>10224004</td>\n",
       "      <td>104978.5460</td>\n",
       "      <td>757</td>\n",
       "      <td>74.15</td>\n",
       "      <td>-32412.1483</td>\n",
       "    </tr>\n",
       "    <tr>\n",
       "      <th>Machines</th>\n",
       "      <td>2236261</td>\n",
       "      <td>72456.2530</td>\n",
       "      <td>157</td>\n",
       "      <td>25.60</td>\n",
       "      <td>-30118.6682</td>\n",
       "    </tr>\n",
       "    <tr>\n",
       "      <th>Bookcases</th>\n",
       "      <td>6423506</td>\n",
       "      <td>48072.7408</td>\n",
       "      <td>422</td>\n",
       "      <td>37.99</td>\n",
       "      <td>-12152.2060</td>\n",
       "    </tr>\n",
       "    <tr>\n",
       "      <th>Chairs</th>\n",
       "      <td>15008025</td>\n",
       "      <td>91988.4560</td>\n",
       "      <td>876</td>\n",
       "      <td>61.40</td>\n",
       "      <td>-9880.8413</td>\n",
       "    </tr>\n",
       "    <tr>\n",
       "      <th>Appliances</th>\n",
       "      <td>4825871</td>\n",
       "      <td>3382.5340</td>\n",
       "      <td>235</td>\n",
       "      <td>53.60</td>\n",
       "      <td>-8629.6412</td>\n",
       "    </tr>\n",
       "    <tr>\n",
       "      <th>Phones</th>\n",
       "      <td>6105294</td>\n",
       "      <td>35797.8400</td>\n",
       "      <td>476</td>\n",
       "      <td>46.60</td>\n",
       "      <td>-7530.6235</td>\n",
       "    </tr>\n",
       "    <tr>\n",
       "      <th>Furnishings</th>\n",
       "      <td>10970913</td>\n",
       "      <td>12845.8440</td>\n",
       "      <td>597</td>\n",
       "      <td>88.60</td>\n",
       "      <td>-6490.9134</td>\n",
       "    </tr>\n",
       "    <tr>\n",
       "      <th>Storage</th>\n",
       "      <td>8606475</td>\n",
       "      <td>37869.0720</td>\n",
       "      <td>569</td>\n",
       "      <td>32.20</td>\n",
       "      <td>-6426.3038</td>\n",
       "    </tr>\n",
       "    <tr>\n",
       "      <th>Supplies</th>\n",
       "      <td>1761430</td>\n",
       "      <td>14067.1760</td>\n",
       "      <td>110</td>\n",
       "      <td>6.60</td>\n",
       "      <td>-3015.6219</td>\n",
       "    </tr>\n",
       "  </tbody>\n",
       "</table>\n",
       "</div>"
      ],
      "text/plain": [
       "              Postal Code        Sales  Quantity  Discount      Profit\n",
       "Sub-Category                                                          \n",
       "Binders          32609300   36140.6130      2456    452.40 -38510.4964\n",
       "Tables           10224004  104978.5460       757     74.15 -32412.1483\n",
       "Machines          2236261   72456.2530       157     25.60 -30118.6682\n",
       "Bookcases         6423506   48072.7408       422     37.99 -12152.2060\n",
       "Chairs           15008025   91988.4560       876     61.40  -9880.8413\n",
       "Appliances        4825871    3382.5340       235     53.60  -8629.6412\n",
       "Phones            6105294   35797.8400       476     46.60  -7530.6235\n",
       "Furnishings      10970913   12845.8440       597     88.60  -6490.9134\n",
       "Storage           8606475   37869.0720       569     32.20  -6426.3038\n",
       "Supplies          1761430   14067.1760       110      6.60  -3015.6219"
      ]
     },
     "execution_count": 91,
     "metadata": {},
     "output_type": "execute_result"
    }
   ],
   "source": [
    "loss_df.groupby(by='Sub-Category').sum().sort_values('Profit',ascending=True).head(10)"
   ]
  },
  {
   "cell_type": "code",
   "execution_count": null,
   "id": "fce3c66c-612e-4460-ac83-b69226419ade",
   "metadata": {},
   "outputs": [],
   "source": [
    "#DATA VISUALIZATION"
   ]
  },
  {
   "cell_type": "code",
   "execution_count": 92,
   "id": "289ebbe2-455e-4b81-ba33-30e2b28bbc0b",
   "metadata": {},
   "outputs": [],
   "source": [
    "plt.rcParams['figure.figsize']=(15,3)"
   ]
  },
  {
   "cell_type": "code",
   "execution_count": 93,
   "id": "aaf95c55-d1f1-4be5-bb03-324725401e85",
   "metadata": {},
   "outputs": [
    {
     "data": {
      "image/png": "[encoded data removed]",
      "text/plain": [
       "<Figure size 1080x216 with 1 Axes>"
      ]
     },
     "metadata": {
      "needs_background": "light"
     },
     "output_type": "display_data"
    }
   ],
   "source": [
    "plt.bar(loss_df['Sub-Category'],loss_df['Sales']);\n",
    "plt.rcParams.update({'font.size':10});\n",
    "plt.xlabel('Sub_Category');\n",
    "plt.ylabel('Sales');"
   ]
  },
  {
   "cell_type": "code",
   "execution_count": 94,
   "id": "cfbf50b7-432f-4f32-96f1-48328808c857",
   "metadata": {},
   "outputs": [
    {
     "data": {
      "text/plain": [
       "Index(['Ship Mode', 'Segment', 'Country', 'City', 'State', 'Postal Code',\n",
       "       'Region', 'Category', 'Sub-Category', 'Sales', 'Quantity', 'Discount',\n",
       "       'Profit'],\n",
       "      dtype='object')"
      ]
     },
     "execution_count": 94,
     "metadata": {},
     "output_type": "execute_result"
    }
   ],
   "source": [
    "df.columns"
   ]
  },
  {
   "cell_type": "code",
   "execution_count": 112,
   "id": "58b117ce-d69d-4c1f-ab44-b2130fc1a94c",
   "metadata": {},
   "outputs": [
    {
     "data": {
      "image/png": "[encoded data removed]",
      "text/plain": [
       "<Figure size 1080x216 with 1 Axes>"
      ]
     },
     "metadata": {
      "needs_background": "light"
     },
     "output_type": "display_data"
    }
   ],
   "source": [
    "plt.bar(df['City'],df['Sales']);\n",
    "plt.rcParams.update({'font.size':10});\n",
    "plt.xlabel('City');\n",
    "plt.ylabel('Sales');"
   ]
  },
  {
   "cell_type": "code",
   "execution_count": 118,
   "id": "f01b52d2-7a79-411f-a398-4ff94605da87",
   "metadata": {},
   "outputs": [
    {
     "data": {
      "text/html": [
       "<div>\n",
       "<style scoped>\n",
       "    .dataframe tbody tr th:only-of-type {\n",
       "        vertical-align: middle;\n",
       "    }\n",
       "\n",
       "    .dataframe tbody tr th {\n",
       "        vertical-align: top;\n",
       "    }\n",
       "\n",
       "    .dataframe thead th {\n",
       "        text-align: right;\n",
       "    }\n",
       "</style>\n",
       "<table border=\"1\" class=\"dataframe\">\n",
       "  <thead>\n",
       "    <tr style=\"text-align: right;\">\n",
       "      <th></th>\n",
       "      <th>Postal Code</th>\n",
       "      <th>Sales</th>\n",
       "      <th>Quantity</th>\n",
       "      <th>Discount</th>\n",
       "      <th>Profit</th>\n",
       "    </tr>\n",
       "    <tr>\n",
       "      <th>City</th>\n",
       "      <th></th>\n",
       "      <th></th>\n",
       "      <th></th>\n",
       "      <th></th>\n",
       "      <th></th>\n",
       "    </tr>\n",
       "  </thead>\n",
       "  <tbody>\n",
       "    <tr>\n",
       "      <th>New York City</th>\n",
       "      <td>9168909</td>\n",
       "      <td>256368.1610</td>\n",
       "      <td>3417</td>\n",
       "      <td>51.40</td>\n",
       "      <td>62036.9837</td>\n",
       "    </tr>\n",
       "    <tr>\n",
       "      <th>Los Angeles</th>\n",
       "      <td>67252887</td>\n",
       "      <td>175851.3410</td>\n",
       "      <td>2879</td>\n",
       "      <td>55.50</td>\n",
       "      <td>30440.7579</td>\n",
       "    </tr>\n",
       "    <tr>\n",
       "      <th>Seattle</th>\n",
       "      <td>41989758</td>\n",
       "      <td>119540.7420</td>\n",
       "      <td>1590</td>\n",
       "      <td>27.80</td>\n",
       "      <td>29156.0967</td>\n",
       "    </tr>\n",
       "    <tr>\n",
       "      <th>San Francisco</th>\n",
       "      <td>47998395</td>\n",
       "      <td>112669.0920</td>\n",
       "      <td>1935</td>\n",
       "      <td>34.00</td>\n",
       "      <td>17507.3854</td>\n",
       "    </tr>\n",
       "    <tr>\n",
       "      <th>Philadelphia</th>\n",
       "      <td>10275302</td>\n",
       "      <td>109077.0130</td>\n",
       "      <td>1981</td>\n",
       "      <td>175.50</td>\n",
       "      <td>-13837.7674</td>\n",
       "    </tr>\n",
       "    <tr>\n",
       "      <th>Houston</th>\n",
       "      <td>29052387</td>\n",
       "      <td>64504.7604</td>\n",
       "      <td>1466</td>\n",
       "      <td>143.14</td>\n",
       "      <td>-10153.5485</td>\n",
       "    </tr>\n",
       "    <tr>\n",
       "      <th>Chicago</th>\n",
       "      <td>19037248</td>\n",
       "      <td>48539.5410</td>\n",
       "      <td>1132</td>\n",
       "      <td>120.50</td>\n",
       "      <td>-6654.5688</td>\n",
       "    </tr>\n",
       "    <tr>\n",
       "      <th>San Diego</th>\n",
       "      <td>15650880</td>\n",
       "      <td>47521.0290</td>\n",
       "      <td>670</td>\n",
       "      <td>13.60</td>\n",
       "      <td>6377.1960</td>\n",
       "    </tr>\n",
       "    <tr>\n",
       "      <th>Jacksonville</th>\n",
       "      <td>3843200</td>\n",
       "      <td>44713.1830</td>\n",
       "      <td>429</td>\n",
       "      <td>35.85</td>\n",
       "      <td>-2323.8350</td>\n",
       "    </tr>\n",
       "    <tr>\n",
       "      <th>Springfield</th>\n",
       "      <td>9016357</td>\n",
       "      <td>43054.3420</td>\n",
       "      <td>649</td>\n",
       "      <td>23.20</td>\n",
       "      <td>6200.6974</td>\n",
       "    </tr>\n",
       "  </tbody>\n",
       "</table>\n",
       "</div>"
      ],
      "text/plain": [
       "               Postal Code        Sales  Quantity  Discount      Profit\n",
       "City                                                                   \n",
       "New York City      9168909  256368.1610      3417     51.40  62036.9837\n",
       "Los Angeles       67252887  175851.3410      2879     55.50  30440.7579\n",
       "Seattle           41989758  119540.7420      1590     27.80  29156.0967\n",
       "San Francisco     47998395  112669.0920      1935     34.00  17507.3854\n",
       "Philadelphia      10275302  109077.0130      1981    175.50 -13837.7674\n",
       "Houston           29052387   64504.7604      1466    143.14 -10153.5485\n",
       "Chicago           19037248   48539.5410      1132    120.50  -6654.5688\n",
       "San Diego         15650880   47521.0290       670     13.60   6377.1960\n",
       "Jacksonville       3843200   44713.1830       429     35.85  -2323.8350\n",
       "Springfield        9016357   43054.3420       649     23.20   6200.6974"
      ]
     },
     "execution_count": 118,
     "metadata": {},
     "output_type": "execute_result"
    }
   ],
   "source": [
    "df.groupby(by='City').sum().sort_values('Sales',ascending=False).head(10)"
   ]
  },
  {
   "cell_type": "code",
   "execution_count": 103,
   "id": "2fbb64f1-f650-4410-88f5-45b9c587921b",
   "metadata": {},
   "outputs": [
    {
     "data": {
      "text/plain": [
       "Index(['Ship Mode', 'Segment', 'Country', 'City', 'State', 'Postal Code',\n",
       "       'Region', 'Category', 'Sub-Category', 'Sales', 'Quantity', 'Discount',\n",
       "       'Profit'],\n",
       "      dtype='object')"
      ]
     },
     "execution_count": 103,
     "metadata": {},
     "output_type": "execute_result"
    }
   ],
   "source": [
    "df.columns"
   ]
  },
  {
   "cell_type": "code",
   "execution_count": 107,
   "id": "50e5da40-10a9-4c9a-b43f-7240d08e95d1",
   "metadata": {},
   "outputs": [
    {
     "data": {
      "image/png": "[encoded data removed]",
      "text/plain": [
       "<Figure size 1080x216 with 1 Axes>"
      ]
     },
     "metadata": {
      "needs_background": "light"
     },
     "output_type": "display_data"
    }
   ],
   "source": [
    "plt.bar(df['State'],df['Sales']);\n",
    "plt.rcParams.update({'font.size':10});\n",
    "plt.xlabel('State');\n",
    "plt.ylabel('Sales');"
   ]
  },
  {
   "cell_type": "code",
   "execution_count": 115,
   "id": "318f1c06-e304-4830-b057-cc19b1956a21",
   "metadata": {},
   "outputs": [
    {
     "data": {
      "text/html": [
       "<div>\n",
       "<style scoped>\n",
       "    .dataframe tbody tr th:only-of-type {\n",
       "        vertical-align: middle;\n",
       "    }\n",
       "\n",
       "    .dataframe tbody tr th {\n",
       "        vertical-align: top;\n",
       "    }\n",
       "\n",
       "    .dataframe thead th {\n",
       "        text-align: right;\n",
       "    }\n",
       "</style>\n",
       "<table border=\"1\" class=\"dataframe\">\n",
       "  <thead>\n",
       "    <tr style=\"text-align: right;\">\n",
       "      <th></th>\n",
       "      <th>Postal Code</th>\n",
       "      <th>Sales</th>\n",
       "      <th>Quantity</th>\n",
       "      <th>Discount</th>\n",
       "      <th>Profit</th>\n",
       "    </tr>\n",
       "    <tr>\n",
       "      <th>State</th>\n",
       "      <th></th>\n",
       "      <th></th>\n",
       "      <th></th>\n",
       "      <th></th>\n",
       "      <th></th>\n",
       "    </tr>\n",
       "  </thead>\n",
       "  <tbody>\n",
       "    <tr>\n",
       "      <th>California</th>\n",
       "      <td>184382639</td>\n",
       "      <td>457687.6315</td>\n",
       "      <td>7667</td>\n",
       "      <td>145.6</td>\n",
       "      <td>76381.3871</td>\n",
       "    </tr>\n",
       "    <tr>\n",
       "      <th>New York</th>\n",
       "      <td>11835721</td>\n",
       "      <td>310876.2710</td>\n",
       "      <td>4224</td>\n",
       "      <td>62.4</td>\n",
       "      <td>74038.5486</td>\n",
       "    </tr>\n",
       "    <tr>\n",
       "      <th>Washington</th>\n",
       "      <td>49661687</td>\n",
       "      <td>138641.2700</td>\n",
       "      <td>1883</td>\n",
       "      <td>32.4</td>\n",
       "      <td>33402.6517</td>\n",
       "    </tr>\n",
       "    <tr>\n",
       "      <th>Michigan</th>\n",
       "      <td>12356103</td>\n",
       "      <td>76269.6140</td>\n",
       "      <td>946</td>\n",
       "      <td>1.8</td>\n",
       "      <td>24463.1876</td>\n",
       "    </tr>\n",
       "    <tr>\n",
       "      <th>Virginia</th>\n",
       "      <td>5124335</td>\n",
       "      <td>70636.7200</td>\n",
       "      <td>893</td>\n",
       "      <td>0.0</td>\n",
       "      <td>18597.9504</td>\n",
       "    </tr>\n",
       "    <tr>\n",
       "      <th>Indiana</th>\n",
       "      <td>6991602</td>\n",
       "      <td>53555.3600</td>\n",
       "      <td>578</td>\n",
       "      <td>0.0</td>\n",
       "      <td>18382.9363</td>\n",
       "    </tr>\n",
       "    <tr>\n",
       "      <th>Georgia</th>\n",
       "      <td>5685480</td>\n",
       "      <td>49095.8400</td>\n",
       "      <td>705</td>\n",
       "      <td>0.0</td>\n",
       "      <td>16250.0433</td>\n",
       "    </tr>\n",
       "    <tr>\n",
       "      <th>Kentucky</th>\n",
       "      <td>5725336</td>\n",
       "      <td>36591.7500</td>\n",
       "      <td>523</td>\n",
       "      <td>0.0</td>\n",
       "      <td>11199.6966</td>\n",
       "    </tr>\n",
       "    <tr>\n",
       "      <th>Minnesota</th>\n",
       "      <td>4932224</td>\n",
       "      <td>29863.1500</td>\n",
       "      <td>331</td>\n",
       "      <td>0.0</td>\n",
       "      <td>10823.1874</td>\n",
       "    </tr>\n",
       "    <tr>\n",
       "      <th>Delaware</th>\n",
       "      <td>1896504</td>\n",
       "      <td>27451.0690</td>\n",
       "      <td>367</td>\n",
       "      <td>0.6</td>\n",
       "      <td>9977.3748</td>\n",
       "    </tr>\n",
       "  </tbody>\n",
       "</table>\n",
       "</div>"
      ],
      "text/plain": [
       "            Postal Code        Sales  Quantity  Discount      Profit\n",
       "State                                                               \n",
       "California    184382639  457687.6315      7667     145.6  76381.3871\n",
       "New York       11835721  310876.2710      4224      62.4  74038.5486\n",
       "Washington     49661687  138641.2700      1883      32.4  33402.6517\n",
       "Michigan       12356103   76269.6140       946       1.8  24463.1876\n",
       "Virginia        5124335   70636.7200       893       0.0  18597.9504\n",
       "Indiana         6991602   53555.3600       578       0.0  18382.9363\n",
       "Georgia         5685480   49095.8400       705       0.0  16250.0433\n",
       "Kentucky        5725336   36591.7500       523       0.0  11199.6966\n",
       "Minnesota       4932224   29863.1500       331       0.0  10823.1874\n",
       "Delaware        1896504   27451.0690       367       0.6   9977.3748"
      ]
     },
     "execution_count": 115,
     "metadata": {},
     "output_type": "execute_result"
    }
   ],
   "source": [
    "df.groupby(by='State').sum().sort_values('Profit',ascending=False).head(10)"
   ]
  },
  {
   "cell_type": "code",
   "execution_count": 116,
   "id": "1a1506be-5fe0-447a-85a2-a2c4f757b59c",
   "metadata": {},
   "outputs": [
    {
     "data": {
      "text/plain": [
       "Index(['Ship Mode', 'Segment', 'Country', 'City', 'State', 'Postal Code',\n",
       "       'Region', 'Category', 'Sub-Category', 'Sales', 'Quantity', 'Discount',\n",
       "       'Profit'],\n",
       "      dtype='object')"
      ]
     },
     "execution_count": 116,
     "metadata": {},
     "output_type": "execute_result"
    }
   ],
   "source": [
    "df.columns"
   ]
  },
  {
   "cell_type": "code",
   "execution_count": 120,
   "id": "0f33a9cc-9b03-47f1-8bb6-6d7719da67d3",
   "metadata": {},
   "outputs": [
    {
     "data": {
      "image/png": "[encoded data removed]",
      "text/plain": [
       "<Figure size 1080x216 with 1 Axes>"
      ]
     },
     "metadata": {
      "needs_background": "light"
     },
     "output_type": "display_data"
    }
   ],
   "source": [
    "plt.bar(df['Quantity'],df['Sales']);\n",
    "plt.rcParams.update({'font.size':10});\n",
    "plt.xlabel('Quantity');\n",
    "plt.ylabel('Sales');"
   ]
  },
  {
   "cell_type": "code",
   "execution_count": 121,
   "id": "6a27e783-2e95-4eb9-9c79-d6f63cba51bc",
   "metadata": {},
   "outputs": [
    {
     "data": {
      "image/png": "[encoded data removed]",
      "text/plain": [
       "<Figure size 1080x216 with 1 Axes>"
      ]
     },
     "metadata": {
      "needs_background": "light"
     },
     "output_type": "display_data"
    }
   ],
   "source": [
    "plt.bar(df['Discount'],df['Sales']);\n",
    "plt.rcParams.update({'font.size':10});\n",
    "plt.xlabel('discount');\n",
    "plt.ylabel('Sales');"
   ]
  },
  {
   "cell_type": "code",
   "execution_count": null,
   "id": "39b2da14-9f3f-469f-877f-718bd268ce8f",
   "metadata": {},
   "outputs": [],
   "source": [
    "plt.bar(df['Profit'],df['Sales']);\n",
    "plt.rcParams.update({'font.size':10});\n",
    "plt.xlabel('Profit');\n",
    "plt.ylabel('Sales');"
   ]
  },
  {
   "cell_type": "code",
   "execution_count": null,
   "id": "5fb28c08-1a84-45cc-8813-64955e9a4667",
   "metadata": {},
   "outputs": [],
   "source": []
  }
 ],
 "metadata": {
  "kernelspec": {
   "display_name": "Python 3 (ipykernel)",
   "language": "python",
   "name": "python3"
  },
  "language_info": {
   "codemirror_mode": {
    "name": "ipython",
    "version": 3
   },
   "file_extension": ".py",
   "mimetype": "text/x-python",
   "name": "python",
   "nbconvert_exporter": "python",
   "pygments_lexer": "ipython3",
   "version": "3.9.7"
  }
 },
 "nbformat": 4,
 "nbformat_minor": 5
}
